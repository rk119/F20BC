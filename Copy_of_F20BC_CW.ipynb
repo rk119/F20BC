{
  "nbformat": 4,
  "nbformat_minor": 0,
  "metadata": {
    "colab": {
      "provenance": [],
      "collapsed_sections": [
        "Tf7nIvVFBYbo"
      ],
      "include_colab_link": true
    },
    "kernelspec": {
      "name": "python3",
      "display_name": "Python 3"
    },
    "language_info": {
      "name": "python"
    }
  },
  "cells": [
    {
      "cell_type": "markdown",
      "metadata": {
        "id": "view-in-github",
        "colab_type": "text"
      },
      "source": [
        "<a href=\"https://colab.research.google.com/github/rk119/F20BC/blob/main/Copy_of_F20BC_CW.ipynb\" target=\"_parent\"><img src=\"https://colab.research.google.com/assets/colab-badge.svg\" alt=\"Open In Colab\"/></a>"
      ]
    },
    {
      "cell_type": "markdown",
      "source": [
        "# Setup"
      ],
      "metadata": {
        "id": "01BcyuF4r555"
      }
    },
    {
      "cell_type": "code",
      "source": [
        "from google.colab import drive\n",
        "drive.mount('/content/drive')"
      ],
      "metadata": {
        "colab": {
          "base_uri": "https://localhost:8080/"
        },
        "id": "0AHQBAak1C2e",
        "outputId": "2f362170-b205-4a60-b6e3-667851e37491"
      },
      "execution_count": 1,
      "outputs": [
        {
          "output_type": "stream",
          "name": "stdout",
          "text": [
            "Mounted at /content/drive\n"
          ]
        }
      ]
    },
    {
      "cell_type": "markdown",
      "source": [
        "### Imports"
      ],
      "metadata": {
        "id": "VYPxaBz51td2"
      }
    },
    {
      "cell_type": "code",
      "execution_count": 2,
      "metadata": {
        "id": "QI20V0N8zYFY"
      },
      "outputs": [],
      "source": [
        "import numpy as np\n",
        "import pandas as pd\n",
        "from sklearn.model_selection import train_test_split\n",
        "import matplotlib.pyplot as plt\n",
        "from sklearn.decomposition import PCA"
      ]
    },
    {
      "cell_type": "markdown",
      "source": [
        "### Load the data"
      ],
      "metadata": {
        "id": "4BM4HR6Q_PbL"
      }
    },
    {
      "cell_type": "code",
      "source": [
        "df  = pd.read_csv(\"/content/drive/MyDrive/F20BC-Dataset/data_banknote_authentication.csv\")"
      ],
      "metadata": {
        "id": "9G9sLE1A_N8X"
      },
      "execution_count": 3,
      "outputs": []
    },
    {
      "cell_type": "markdown",
      "source": [
        "### View the first 5 instances of the data"
      ],
      "metadata": {
        "id": "9Lzkf16v_gSr"
      }
    },
    {
      "cell_type": "code",
      "source": [
        "df.head()"
      ],
      "metadata": {
        "colab": {
          "base_uri": "https://localhost:8080/",
          "height": 221
        },
        "id": "rre0kNur_gnS",
        "outputId": "0280510b-2d16-41e9-97b4-3cb53e51b3b0"
      },
      "execution_count": 4,
      "outputs": [
        {
          "output_type": "execute_result",
          "data": {
            "text/plain": [
              "    3.6216  8.6661  -2.8073  -0.44699  0\n",
              "0  4.54590  8.1674  -2.4586  -1.46210  0\n",
              "1  3.86600 -2.6383   1.9242   0.10645  0\n",
              "2  3.45660  9.5228  -4.0112  -3.59440  0\n",
              "3  0.32924 -4.4552   4.5718  -0.98880  0\n",
              "4  4.36840  9.6718  -3.9606  -3.16250  0"
            ],
            "text/html": [
              "\n",
              "  <div id=\"df-66a3db49-6701-4133-ba5c-bc17e17296d9\" class=\"colab-df-container\">\n",
              "    <div>\n",
              "<style scoped>\n",
              "    .dataframe tbody tr th:only-of-type {\n",
              "        vertical-align: middle;\n",
              "    }\n",
              "\n",
              "    .dataframe tbody tr th {\n",
              "        vertical-align: top;\n",
              "    }\n",
              "\n",
              "    .dataframe thead th {\n",
              "        text-align: right;\n",
              "    }\n",
              "</style>\n",
              "<table border=\"1\" class=\"dataframe\">\n",
              "  <thead>\n",
              "    <tr style=\"text-align: right;\">\n",
              "      <th></th>\n",
              "      <th>3.6216</th>\n",
              "      <th>8.6661</th>\n",
              "      <th>-2.8073</th>\n",
              "      <th>-0.44699</th>\n",
              "      <th>0</th>\n",
              "    </tr>\n",
              "  </thead>\n",
              "  <tbody>\n",
              "    <tr>\n",
              "      <th>0</th>\n",
              "      <td>4.54590</td>\n",
              "      <td>8.1674</td>\n",
              "      <td>-2.4586</td>\n",
              "      <td>-1.46210</td>\n",
              "      <td>0</td>\n",
              "    </tr>\n",
              "    <tr>\n",
              "      <th>1</th>\n",
              "      <td>3.86600</td>\n",
              "      <td>-2.6383</td>\n",
              "      <td>1.9242</td>\n",
              "      <td>0.10645</td>\n",
              "      <td>0</td>\n",
              "    </tr>\n",
              "    <tr>\n",
              "      <th>2</th>\n",
              "      <td>3.45660</td>\n",
              "      <td>9.5228</td>\n",
              "      <td>-4.0112</td>\n",
              "      <td>-3.59440</td>\n",
              "      <td>0</td>\n",
              "    </tr>\n",
              "    <tr>\n",
              "      <th>3</th>\n",
              "      <td>0.32924</td>\n",
              "      <td>-4.4552</td>\n",
              "      <td>4.5718</td>\n",
              "      <td>-0.98880</td>\n",
              "      <td>0</td>\n",
              "    </tr>\n",
              "    <tr>\n",
              "      <th>4</th>\n",
              "      <td>4.36840</td>\n",
              "      <td>9.6718</td>\n",
              "      <td>-3.9606</td>\n",
              "      <td>-3.16250</td>\n",
              "      <td>0</td>\n",
              "    </tr>\n",
              "  </tbody>\n",
              "</table>\n",
              "</div>\n",
              "    <div class=\"colab-df-buttons\">\n",
              "\n",
              "  <div class=\"colab-df-container\">\n",
              "    <button class=\"colab-df-convert\" onclick=\"convertToInteractive('df-66a3db49-6701-4133-ba5c-bc17e17296d9')\"\n",
              "            title=\"Convert this dataframe to an interactive table.\"\n",
              "            style=\"display:none;\">\n",
              "\n",
              "  <svg xmlns=\"http://www.w3.org/2000/svg\" height=\"24px\" viewBox=\"0 -960 960 960\">\n",
              "    <path d=\"M120-120v-720h720v720H120Zm60-500h600v-160H180v160Zm220 220h160v-160H400v160Zm0 220h160v-160H400v160ZM180-400h160v-160H180v160Zm440 0h160v-160H620v160ZM180-180h160v-160H180v160Zm440 0h160v-160H620v160Z\"/>\n",
              "  </svg>\n",
              "    </button>\n",
              "\n",
              "  <style>\n",
              "    .colab-df-container {\n",
              "      display:flex;\n",
              "      gap: 12px;\n",
              "    }\n",
              "\n",
              "    .colab-df-convert {\n",
              "      background-color: #E8F0FE;\n",
              "      border: none;\n",
              "      border-radius: 50%;\n",
              "      cursor: pointer;\n",
              "      display: none;\n",
              "      fill: #1967D2;\n",
              "      height: 32px;\n",
              "      padding: 0 0 0 0;\n",
              "      width: 32px;\n",
              "    }\n",
              "\n",
              "    .colab-df-convert:hover {\n",
              "      background-color: #E2EBFA;\n",
              "      box-shadow: 0px 1px 2px rgba(60, 64, 67, 0.3), 0px 1px 3px 1px rgba(60, 64, 67, 0.15);\n",
              "      fill: #174EA6;\n",
              "    }\n",
              "\n",
              "    .colab-df-buttons div {\n",
              "      margin-bottom: 4px;\n",
              "    }\n",
              "\n",
              "    [theme=dark] .colab-df-convert {\n",
              "      background-color: #3B4455;\n",
              "      fill: #D2E3FC;\n",
              "    }\n",
              "\n",
              "    [theme=dark] .colab-df-convert:hover {\n",
              "      background-color: #434B5C;\n",
              "      box-shadow: 0px 1px 3px 1px rgba(0, 0, 0, 0.15);\n",
              "      filter: drop-shadow(0px 1px 2px rgba(0, 0, 0, 0.3));\n",
              "      fill: #FFFFFF;\n",
              "    }\n",
              "  </style>\n",
              "\n",
              "    <script>\n",
              "      const buttonEl =\n",
              "        document.querySelector('#df-66a3db49-6701-4133-ba5c-bc17e17296d9 button.colab-df-convert');\n",
              "      buttonEl.style.display =\n",
              "        google.colab.kernel.accessAllowed ? 'block' : 'none';\n",
              "\n",
              "      async function convertToInteractive(key) {\n",
              "        const element = document.querySelector('#df-66a3db49-6701-4133-ba5c-bc17e17296d9');\n",
              "        const dataTable =\n",
              "          await google.colab.kernel.invokeFunction('convertToInteractive',\n",
              "                                                    [key], {});\n",
              "        if (!dataTable) return;\n",
              "\n",
              "        const docLinkHtml = 'Like what you see? Visit the ' +\n",
              "          '<a target=\"_blank\" href=https://colab.research.google.com/notebooks/data_table.ipynb>data table notebook</a>'\n",
              "          + ' to learn more about interactive tables.';\n",
              "        element.innerHTML = '';\n",
              "        dataTable['output_type'] = 'display_data';\n",
              "        await google.colab.output.renderOutput(dataTable, element);\n",
              "        const docLink = document.createElement('div');\n",
              "        docLink.innerHTML = docLinkHtml;\n",
              "        element.appendChild(docLink);\n",
              "      }\n",
              "    </script>\n",
              "  </div>\n",
              "\n",
              "\n",
              "<div id=\"df-398a35f3-69e4-4082-8f6f-ec39b71c6294\">\n",
              "  <button class=\"colab-df-quickchart\" onclick=\"quickchart('df-398a35f3-69e4-4082-8f6f-ec39b71c6294')\"\n",
              "            title=\"Suggest charts\"\n",
              "            style=\"display:none;\">\n",
              "\n",
              "<svg xmlns=\"http://www.w3.org/2000/svg\" height=\"24px\"viewBox=\"0 0 24 24\"\n",
              "     width=\"24px\">\n",
              "    <g>\n",
              "        <path d=\"M19 3H5c-1.1 0-2 .9-2 2v14c0 1.1.9 2 2 2h14c1.1 0 2-.9 2-2V5c0-1.1-.9-2-2-2zM9 17H7v-7h2v7zm4 0h-2V7h2v10zm4 0h-2v-4h2v4z\"/>\n",
              "    </g>\n",
              "</svg>\n",
              "  </button>\n",
              "\n",
              "<style>\n",
              "  .colab-df-quickchart {\n",
              "      --bg-color: #E8F0FE;\n",
              "      --fill-color: #1967D2;\n",
              "      --hover-bg-color: #E2EBFA;\n",
              "      --hover-fill-color: #174EA6;\n",
              "      --disabled-fill-color: #AAA;\n",
              "      --disabled-bg-color: #DDD;\n",
              "  }\n",
              "\n",
              "  [theme=dark] .colab-df-quickchart {\n",
              "      --bg-color: #3B4455;\n",
              "      --fill-color: #D2E3FC;\n",
              "      --hover-bg-color: #434B5C;\n",
              "      --hover-fill-color: #FFFFFF;\n",
              "      --disabled-bg-color: #3B4455;\n",
              "      --disabled-fill-color: #666;\n",
              "  }\n",
              "\n",
              "  .colab-df-quickchart {\n",
              "    background-color: var(--bg-color);\n",
              "    border: none;\n",
              "    border-radius: 50%;\n",
              "    cursor: pointer;\n",
              "    display: none;\n",
              "    fill: var(--fill-color);\n",
              "    height: 32px;\n",
              "    padding: 0;\n",
              "    width: 32px;\n",
              "  }\n",
              "\n",
              "  .colab-df-quickchart:hover {\n",
              "    background-color: var(--hover-bg-color);\n",
              "    box-shadow: 0 1px 2px rgba(60, 64, 67, 0.3), 0 1px 3px 1px rgba(60, 64, 67, 0.15);\n",
              "    fill: var(--button-hover-fill-color);\n",
              "  }\n",
              "\n",
              "  .colab-df-quickchart-complete:disabled,\n",
              "  .colab-df-quickchart-complete:disabled:hover {\n",
              "    background-color: var(--disabled-bg-color);\n",
              "    fill: var(--disabled-fill-color);\n",
              "    box-shadow: none;\n",
              "  }\n",
              "\n",
              "  .colab-df-spinner {\n",
              "    border: 2px solid var(--fill-color);\n",
              "    border-color: transparent;\n",
              "    border-bottom-color: var(--fill-color);\n",
              "    animation:\n",
              "      spin 1s steps(1) infinite;\n",
              "  }\n",
              "\n",
              "  @keyframes spin {\n",
              "    0% {\n",
              "      border-color: transparent;\n",
              "      border-bottom-color: var(--fill-color);\n",
              "      border-left-color: var(--fill-color);\n",
              "    }\n",
              "    20% {\n",
              "      border-color: transparent;\n",
              "      border-left-color: var(--fill-color);\n",
              "      border-top-color: var(--fill-color);\n",
              "    }\n",
              "    30% {\n",
              "      border-color: transparent;\n",
              "      border-left-color: var(--fill-color);\n",
              "      border-top-color: var(--fill-color);\n",
              "      border-right-color: var(--fill-color);\n",
              "    }\n",
              "    40% {\n",
              "      border-color: transparent;\n",
              "      border-right-color: var(--fill-color);\n",
              "      border-top-color: var(--fill-color);\n",
              "    }\n",
              "    60% {\n",
              "      border-color: transparent;\n",
              "      border-right-color: var(--fill-color);\n",
              "    }\n",
              "    80% {\n",
              "      border-color: transparent;\n",
              "      border-right-color: var(--fill-color);\n",
              "      border-bottom-color: var(--fill-color);\n",
              "    }\n",
              "    90% {\n",
              "      border-color: transparent;\n",
              "      border-bottom-color: var(--fill-color);\n",
              "    }\n",
              "  }\n",
              "</style>\n",
              "\n",
              "  <script>\n",
              "    async function quickchart(key) {\n",
              "      const quickchartButtonEl =\n",
              "        document.querySelector('#' + key + ' button');\n",
              "      quickchartButtonEl.disabled = true;  // To prevent multiple clicks.\n",
              "      quickchartButtonEl.classList.add('colab-df-spinner');\n",
              "      try {\n",
              "        const charts = await google.colab.kernel.invokeFunction(\n",
              "            'suggestCharts', [key], {});\n",
              "      } catch (error) {\n",
              "        console.error('Error during call to suggestCharts:', error);\n",
              "      }\n",
              "      quickchartButtonEl.classList.remove('colab-df-spinner');\n",
              "      quickchartButtonEl.classList.add('colab-df-quickchart-complete');\n",
              "    }\n",
              "    (() => {\n",
              "      let quickchartButtonEl =\n",
              "        document.querySelector('#df-398a35f3-69e4-4082-8f6f-ec39b71c6294 button');\n",
              "      quickchartButtonEl.style.display =\n",
              "        google.colab.kernel.accessAllowed ? 'block' : 'none';\n",
              "    })();\n",
              "  </script>\n",
              "</div>\n",
              "    </div>\n",
              "  </div>\n"
            ]
          },
          "metadata": {},
          "execution_count": 4
        }
      ]
    },
    {
      "cell_type": "code",
      "source": [
        "df.shape"
      ],
      "metadata": {
        "colab": {
          "base_uri": "https://localhost:8080/"
        },
        "id": "SMc1TPCSHoBk",
        "outputId": "118e1030-3da4-476c-9316-f561a3d0a908"
      },
      "execution_count": 5,
      "outputs": [
        {
          "output_type": "execute_result",
          "data": {
            "text/plain": [
              "(1371, 5)"
            ]
          },
          "metadata": {},
          "execution_count": 5
        }
      ]
    },
    {
      "cell_type": "code",
      "source": [
        "# if len(df.columns) == 1:\n",
        "#     # Split the single column into multiple columns by the comma delimiter\n",
        "#     df = df.iloc[:, 0].str.split(',', expand=True)\n",
        "\n",
        "# # Convert the split columns to numeric types\n",
        "# df = df.apply(pd.to_numeric)\n",
        "\n",
        "# Check if there are 5 columns\n",
        "if df.shape[1] == 5:\n",
        "    # Split into features (X) and label (Y)\n",
        "    X = df.iloc[:, :-1]\n",
        "    Y = df.iloc[:, -1]\n",
        "\n",
        "# Convert X and Y to numpy arrays\n",
        "X_array = X.to_numpy()\n",
        "Y_array = Y.to_numpy()"
      ],
      "metadata": {
        "id": "wvyJ15GCrKsu"
      },
      "execution_count": 6,
      "outputs": []
    },
    {
      "cell_type": "code",
      "source": [
        "Y"
      ],
      "metadata": {
        "id": "5R26_KA62QO9",
        "outputId": "5c90e1d0-9170-463b-dd53-9c92f7cec9fb",
        "colab": {
          "base_uri": "https://localhost:8080/"
        }
      },
      "execution_count": 7,
      "outputs": [
        {
          "output_type": "execute_result",
          "data": {
            "text/plain": [
              "0       0\n",
              "1       0\n",
              "2       0\n",
              "3       0\n",
              "4       0\n",
              "       ..\n",
              "1366    1\n",
              "1367    1\n",
              "1368    1\n",
              "1369    1\n",
              "1370    1\n",
              "Name: 0, Length: 1371, dtype: int64"
            ]
          },
          "metadata": {},
          "execution_count": 7
        }
      ]
    },
    {
      "cell_type": "code",
      "source": [
        "Y_array"
      ],
      "metadata": {
        "colab": {
          "base_uri": "https://localhost:8080/"
        },
        "id": "YQwy5ndJUpn-",
        "outputId": "232085be-20d6-483b-cba4-840bf8689277"
      },
      "execution_count": 8,
      "outputs": [
        {
          "output_type": "execute_result",
          "data": {
            "text/plain": [
              "array([0, 0, 0, ..., 1, 1, 1])"
            ]
          },
          "metadata": {},
          "execution_count": 8
        }
      ]
    },
    {
      "cell_type": "code",
      "source": [
        "X"
      ],
      "metadata": {
        "colab": {
          "base_uri": "https://localhost:8080/",
          "height": 433
        },
        "id": "OEgn1BYPJEQ1",
        "outputId": "5c642ca9-1689-48ef-efe5-6a39d5476be2"
      },
      "execution_count": 9,
      "outputs": [
        {
          "output_type": "execute_result",
          "data": {
            "text/plain": [
              "       3.6216    8.6661  -2.8073  -0.44699\n",
              "0     4.54590   8.16740  -2.4586  -1.46210\n",
              "1     3.86600  -2.63830   1.9242   0.10645\n",
              "2     3.45660   9.52280  -4.0112  -3.59440\n",
              "3     0.32924  -4.45520   4.5718  -0.98880\n",
              "4     4.36840   9.67180  -3.9606  -3.16250\n",
              "...       ...       ...      ...       ...\n",
              "1366  0.40614   1.34920  -1.4501  -0.55949\n",
              "1367 -1.38870  -4.87730   6.4774   0.34179\n",
              "1368 -3.75030 -13.45860  17.5932  -2.77710\n",
              "1369 -3.56370  -8.38270  12.3930  -1.28230\n",
              "1370 -2.54190  -0.65804   2.6842   1.19520\n",
              "\n",
              "[1371 rows x 4 columns]"
            ],
            "text/html": [
              "\n",
              "  <div id=\"df-3972f40f-4337-4255-a1f4-eea450d9f9e2\" class=\"colab-df-container\">\n",
              "    <div>\n",
              "<style scoped>\n",
              "    .dataframe tbody tr th:only-of-type {\n",
              "        vertical-align: middle;\n",
              "    }\n",
              "\n",
              "    .dataframe tbody tr th {\n",
              "        vertical-align: top;\n",
              "    }\n",
              "\n",
              "    .dataframe thead th {\n",
              "        text-align: right;\n",
              "    }\n",
              "</style>\n",
              "<table border=\"1\" class=\"dataframe\">\n",
              "  <thead>\n",
              "    <tr style=\"text-align: right;\">\n",
              "      <th></th>\n",
              "      <th>3.6216</th>\n",
              "      <th>8.6661</th>\n",
              "      <th>-2.8073</th>\n",
              "      <th>-0.44699</th>\n",
              "    </tr>\n",
              "  </thead>\n",
              "  <tbody>\n",
              "    <tr>\n",
              "      <th>0</th>\n",
              "      <td>4.54590</td>\n",
              "      <td>8.16740</td>\n",
              "      <td>-2.4586</td>\n",
              "      <td>-1.46210</td>\n",
              "    </tr>\n",
              "    <tr>\n",
              "      <th>1</th>\n",
              "      <td>3.86600</td>\n",
              "      <td>-2.63830</td>\n",
              "      <td>1.9242</td>\n",
              "      <td>0.10645</td>\n",
              "    </tr>\n",
              "    <tr>\n",
              "      <th>2</th>\n",
              "      <td>3.45660</td>\n",
              "      <td>9.52280</td>\n",
              "      <td>-4.0112</td>\n",
              "      <td>-3.59440</td>\n",
              "    </tr>\n",
              "    <tr>\n",
              "      <th>3</th>\n",
              "      <td>0.32924</td>\n",
              "      <td>-4.45520</td>\n",
              "      <td>4.5718</td>\n",
              "      <td>-0.98880</td>\n",
              "    </tr>\n",
              "    <tr>\n",
              "      <th>4</th>\n",
              "      <td>4.36840</td>\n",
              "      <td>9.67180</td>\n",
              "      <td>-3.9606</td>\n",
              "      <td>-3.16250</td>\n",
              "    </tr>\n",
              "    <tr>\n",
              "      <th>...</th>\n",
              "      <td>...</td>\n",
              "      <td>...</td>\n",
              "      <td>...</td>\n",
              "      <td>...</td>\n",
              "    </tr>\n",
              "    <tr>\n",
              "      <th>1366</th>\n",
              "      <td>0.40614</td>\n",
              "      <td>1.34920</td>\n",
              "      <td>-1.4501</td>\n",
              "      <td>-0.55949</td>\n",
              "    </tr>\n",
              "    <tr>\n",
              "      <th>1367</th>\n",
              "      <td>-1.38870</td>\n",
              "      <td>-4.87730</td>\n",
              "      <td>6.4774</td>\n",
              "      <td>0.34179</td>\n",
              "    </tr>\n",
              "    <tr>\n",
              "      <th>1368</th>\n",
              "      <td>-3.75030</td>\n",
              "      <td>-13.45860</td>\n",
              "      <td>17.5932</td>\n",
              "      <td>-2.77710</td>\n",
              "    </tr>\n",
              "    <tr>\n",
              "      <th>1369</th>\n",
              "      <td>-3.56370</td>\n",
              "      <td>-8.38270</td>\n",
              "      <td>12.3930</td>\n",
              "      <td>-1.28230</td>\n",
              "    </tr>\n",
              "    <tr>\n",
              "      <th>1370</th>\n",
              "      <td>-2.54190</td>\n",
              "      <td>-0.65804</td>\n",
              "      <td>2.6842</td>\n",
              "      <td>1.19520</td>\n",
              "    </tr>\n",
              "  </tbody>\n",
              "</table>\n",
              "<p>1371 rows × 4 columns</p>\n",
              "</div>\n",
              "    <div class=\"colab-df-buttons\">\n",
              "\n",
              "  <div class=\"colab-df-container\">\n",
              "    <button class=\"colab-df-convert\" onclick=\"convertToInteractive('df-3972f40f-4337-4255-a1f4-eea450d9f9e2')\"\n",
              "            title=\"Convert this dataframe to an interactive table.\"\n",
              "            style=\"display:none;\">\n",
              "\n",
              "  <svg xmlns=\"http://www.w3.org/2000/svg\" height=\"24px\" viewBox=\"0 -960 960 960\">\n",
              "    <path d=\"M120-120v-720h720v720H120Zm60-500h600v-160H180v160Zm220 220h160v-160H400v160Zm0 220h160v-160H400v160ZM180-400h160v-160H180v160Zm440 0h160v-160H620v160ZM180-180h160v-160H180v160Zm440 0h160v-160H620v160Z\"/>\n",
              "  </svg>\n",
              "    </button>\n",
              "\n",
              "  <style>\n",
              "    .colab-df-container {\n",
              "      display:flex;\n",
              "      gap: 12px;\n",
              "    }\n",
              "\n",
              "    .colab-df-convert {\n",
              "      background-color: #E8F0FE;\n",
              "      border: none;\n",
              "      border-radius: 50%;\n",
              "      cursor: pointer;\n",
              "      display: none;\n",
              "      fill: #1967D2;\n",
              "      height: 32px;\n",
              "      padding: 0 0 0 0;\n",
              "      width: 32px;\n",
              "    }\n",
              "\n",
              "    .colab-df-convert:hover {\n",
              "      background-color: #E2EBFA;\n",
              "      box-shadow: 0px 1px 2px rgba(60, 64, 67, 0.3), 0px 1px 3px 1px rgba(60, 64, 67, 0.15);\n",
              "      fill: #174EA6;\n",
              "    }\n",
              "\n",
              "    .colab-df-buttons div {\n",
              "      margin-bottom: 4px;\n",
              "    }\n",
              "\n",
              "    [theme=dark] .colab-df-convert {\n",
              "      background-color: #3B4455;\n",
              "      fill: #D2E3FC;\n",
              "    }\n",
              "\n",
              "    [theme=dark] .colab-df-convert:hover {\n",
              "      background-color: #434B5C;\n",
              "      box-shadow: 0px 1px 3px 1px rgba(0, 0, 0, 0.15);\n",
              "      filter: drop-shadow(0px 1px 2px rgba(0, 0, 0, 0.3));\n",
              "      fill: #FFFFFF;\n",
              "    }\n",
              "  </style>\n",
              "\n",
              "    <script>\n",
              "      const buttonEl =\n",
              "        document.querySelector('#df-3972f40f-4337-4255-a1f4-eea450d9f9e2 button.colab-df-convert');\n",
              "      buttonEl.style.display =\n",
              "        google.colab.kernel.accessAllowed ? 'block' : 'none';\n",
              "\n",
              "      async function convertToInteractive(key) {\n",
              "        const element = document.querySelector('#df-3972f40f-4337-4255-a1f4-eea450d9f9e2');\n",
              "        const dataTable =\n",
              "          await google.colab.kernel.invokeFunction('convertToInteractive',\n",
              "                                                    [key], {});\n",
              "        if (!dataTable) return;\n",
              "\n",
              "        const docLinkHtml = 'Like what you see? Visit the ' +\n",
              "          '<a target=\"_blank\" href=https://colab.research.google.com/notebooks/data_table.ipynb>data table notebook</a>'\n",
              "          + ' to learn more about interactive tables.';\n",
              "        element.innerHTML = '';\n",
              "        dataTable['output_type'] = 'display_data';\n",
              "        await google.colab.output.renderOutput(dataTable, element);\n",
              "        const docLink = document.createElement('div');\n",
              "        docLink.innerHTML = docLinkHtml;\n",
              "        element.appendChild(docLink);\n",
              "      }\n",
              "    </script>\n",
              "  </div>\n",
              "\n",
              "\n",
              "<div id=\"df-eaae7e30-4f4a-4dff-9110-df0f09b19f72\">\n",
              "  <button class=\"colab-df-quickchart\" onclick=\"quickchart('df-eaae7e30-4f4a-4dff-9110-df0f09b19f72')\"\n",
              "            title=\"Suggest charts\"\n",
              "            style=\"display:none;\">\n",
              "\n",
              "<svg xmlns=\"http://www.w3.org/2000/svg\" height=\"24px\"viewBox=\"0 0 24 24\"\n",
              "     width=\"24px\">\n",
              "    <g>\n",
              "        <path d=\"M19 3H5c-1.1 0-2 .9-2 2v14c0 1.1.9 2 2 2h14c1.1 0 2-.9 2-2V5c0-1.1-.9-2-2-2zM9 17H7v-7h2v7zm4 0h-2V7h2v10zm4 0h-2v-4h2v4z\"/>\n",
              "    </g>\n",
              "</svg>\n",
              "  </button>\n",
              "\n",
              "<style>\n",
              "  .colab-df-quickchart {\n",
              "      --bg-color: #E8F0FE;\n",
              "      --fill-color: #1967D2;\n",
              "      --hover-bg-color: #E2EBFA;\n",
              "      --hover-fill-color: #174EA6;\n",
              "      --disabled-fill-color: #AAA;\n",
              "      --disabled-bg-color: #DDD;\n",
              "  }\n",
              "\n",
              "  [theme=dark] .colab-df-quickchart {\n",
              "      --bg-color: #3B4455;\n",
              "      --fill-color: #D2E3FC;\n",
              "      --hover-bg-color: #434B5C;\n",
              "      --hover-fill-color: #FFFFFF;\n",
              "      --disabled-bg-color: #3B4455;\n",
              "      --disabled-fill-color: #666;\n",
              "  }\n",
              "\n",
              "  .colab-df-quickchart {\n",
              "    background-color: var(--bg-color);\n",
              "    border: none;\n",
              "    border-radius: 50%;\n",
              "    cursor: pointer;\n",
              "    display: none;\n",
              "    fill: var(--fill-color);\n",
              "    height: 32px;\n",
              "    padding: 0;\n",
              "    width: 32px;\n",
              "  }\n",
              "\n",
              "  .colab-df-quickchart:hover {\n",
              "    background-color: var(--hover-bg-color);\n",
              "    box-shadow: 0 1px 2px rgba(60, 64, 67, 0.3), 0 1px 3px 1px rgba(60, 64, 67, 0.15);\n",
              "    fill: var(--button-hover-fill-color);\n",
              "  }\n",
              "\n",
              "  .colab-df-quickchart-complete:disabled,\n",
              "  .colab-df-quickchart-complete:disabled:hover {\n",
              "    background-color: var(--disabled-bg-color);\n",
              "    fill: var(--disabled-fill-color);\n",
              "    box-shadow: none;\n",
              "  }\n",
              "\n",
              "  .colab-df-spinner {\n",
              "    border: 2px solid var(--fill-color);\n",
              "    border-color: transparent;\n",
              "    border-bottom-color: var(--fill-color);\n",
              "    animation:\n",
              "      spin 1s steps(1) infinite;\n",
              "  }\n",
              "\n",
              "  @keyframes spin {\n",
              "    0% {\n",
              "      border-color: transparent;\n",
              "      border-bottom-color: var(--fill-color);\n",
              "      border-left-color: var(--fill-color);\n",
              "    }\n",
              "    20% {\n",
              "      border-color: transparent;\n",
              "      border-left-color: var(--fill-color);\n",
              "      border-top-color: var(--fill-color);\n",
              "    }\n",
              "    30% {\n",
              "      border-color: transparent;\n",
              "      border-left-color: var(--fill-color);\n",
              "      border-top-color: var(--fill-color);\n",
              "      border-right-color: var(--fill-color);\n",
              "    }\n",
              "    40% {\n",
              "      border-color: transparent;\n",
              "      border-right-color: var(--fill-color);\n",
              "      border-top-color: var(--fill-color);\n",
              "    }\n",
              "    60% {\n",
              "      border-color: transparent;\n",
              "      border-right-color: var(--fill-color);\n",
              "    }\n",
              "    80% {\n",
              "      border-color: transparent;\n",
              "      border-right-color: var(--fill-color);\n",
              "      border-bottom-color: var(--fill-color);\n",
              "    }\n",
              "    90% {\n",
              "      border-color: transparent;\n",
              "      border-bottom-color: var(--fill-color);\n",
              "    }\n",
              "  }\n",
              "</style>\n",
              "\n",
              "  <script>\n",
              "    async function quickchart(key) {\n",
              "      const quickchartButtonEl =\n",
              "        document.querySelector('#' + key + ' button');\n",
              "      quickchartButtonEl.disabled = true;  // To prevent multiple clicks.\n",
              "      quickchartButtonEl.classList.add('colab-df-spinner');\n",
              "      try {\n",
              "        const charts = await google.colab.kernel.invokeFunction(\n",
              "            'suggestCharts', [key], {});\n",
              "      } catch (error) {\n",
              "        console.error('Error during call to suggestCharts:', error);\n",
              "      }\n",
              "      quickchartButtonEl.classList.remove('colab-df-spinner');\n",
              "      quickchartButtonEl.classList.add('colab-df-quickchart-complete');\n",
              "    }\n",
              "    (() => {\n",
              "      let quickchartButtonEl =\n",
              "        document.querySelector('#df-eaae7e30-4f4a-4dff-9110-df0f09b19f72 button');\n",
              "      quickchartButtonEl.style.display =\n",
              "        google.colab.kernel.accessAllowed ? 'block' : 'none';\n",
              "    })();\n",
              "  </script>\n",
              "</div>\n",
              "    </div>\n",
              "  </div>\n"
            ]
          },
          "metadata": {},
          "execution_count": 9
        }
      ]
    },
    {
      "cell_type": "code",
      "source": [
        "X_array"
      ],
      "metadata": {
        "colab": {
          "base_uri": "https://localhost:8080/"
        },
        "id": "fMzeAisYUsTB",
        "outputId": "6b82d174-ac44-4f71-9102-a4f7e9985050"
      },
      "execution_count": 10,
      "outputs": [
        {
          "output_type": "execute_result",
          "data": {
            "text/plain": [
              "array([[  4.5459 ,   8.1674 ,  -2.4586 ,  -1.4621 ],\n",
              "       [  3.866  ,  -2.6383 ,   1.9242 ,   0.10645],\n",
              "       [  3.4566 ,   9.5228 ,  -4.0112 ,  -3.5944 ],\n",
              "       ...,\n",
              "       [ -3.7503 , -13.4586 ,  17.5932 ,  -2.7771 ],\n",
              "       [ -3.5637 ,  -8.3827 ,  12.393  ,  -1.2823 ],\n",
              "       [ -2.5419 ,  -0.65804,   2.6842 ,   1.1952 ]])"
            ]
          },
          "metadata": {},
          "execution_count": 10
        }
      ]
    },
    {
      "cell_type": "code",
      "source": [
        "from sklearn.preprocessing import MinMaxScaler\n",
        "\n",
        "scaler = MinMaxScaler()\n",
        "df_normalized = pd.DataFrame(scaler.fit_transform(df), columns=df.columns)"
      ],
      "metadata": {
        "id": "p7veobqkiPkV"
      },
      "execution_count": 11,
      "outputs": []
    },
    {
      "cell_type": "code",
      "source": [
        "df_normalized"
      ],
      "metadata": {
        "id": "Fxp0mtQ7ium9",
        "outputId": "270cae81-58da-459c-a8e0-9cc2dae575fc",
        "colab": {
          "base_uri": "https://localhost:8080/",
          "height": 433
        }
      },
      "execution_count": 12,
      "outputs": [
        {
          "output_type": "execute_result",
          "data": {
            "text/plain": [
              "        3.6216    8.6661   -2.8073  -0.44699    0\n",
              "0     0.835659  0.820982  0.121804  0.644326  0.0\n",
              "1     0.786629  0.416648  0.310608  0.786951  0.0\n",
              "2     0.757105  0.871699  0.054921  0.450440  0.0\n",
              "3     0.531578  0.348662  0.424662  0.687362  0.0\n",
              "4     0.822859  0.877275  0.057100  0.489711  0.0\n",
              "...        ...       ...       ...       ...  ...\n",
              "1366  0.537124  0.565855  0.165249  0.726398  1.0\n",
              "1367  0.407690  0.332868  0.506753  0.808350  1.0\n",
              "1368  0.237385  0.011768  0.985603  0.524755  1.0\n",
              "1369  0.250842  0.201701  0.761587  0.660675  1.0\n",
              "1370  0.324528  0.490747  0.343348  0.885949  1.0\n",
              "\n",
              "[1371 rows x 5 columns]"
            ],
            "text/html": [
              "\n",
              "  <div id=\"df-0c8e6140-80e4-4dcc-be26-53f2ed71bc58\" class=\"colab-df-container\">\n",
              "    <div>\n",
              "<style scoped>\n",
              "    .dataframe tbody tr th:only-of-type {\n",
              "        vertical-align: middle;\n",
              "    }\n",
              "\n",
              "    .dataframe tbody tr th {\n",
              "        vertical-align: top;\n",
              "    }\n",
              "\n",
              "    .dataframe thead th {\n",
              "        text-align: right;\n",
              "    }\n",
              "</style>\n",
              "<table border=\"1\" class=\"dataframe\">\n",
              "  <thead>\n",
              "    <tr style=\"text-align: right;\">\n",
              "      <th></th>\n",
              "      <th>3.6216</th>\n",
              "      <th>8.6661</th>\n",
              "      <th>-2.8073</th>\n",
              "      <th>-0.44699</th>\n",
              "      <th>0</th>\n",
              "    </tr>\n",
              "  </thead>\n",
              "  <tbody>\n",
              "    <tr>\n",
              "      <th>0</th>\n",
              "      <td>0.835659</td>\n",
              "      <td>0.820982</td>\n",
              "      <td>0.121804</td>\n",
              "      <td>0.644326</td>\n",
              "      <td>0.0</td>\n",
              "    </tr>\n",
              "    <tr>\n",
              "      <th>1</th>\n",
              "      <td>0.786629</td>\n",
              "      <td>0.416648</td>\n",
              "      <td>0.310608</td>\n",
              "      <td>0.786951</td>\n",
              "      <td>0.0</td>\n",
              "    </tr>\n",
              "    <tr>\n",
              "      <th>2</th>\n",
              "      <td>0.757105</td>\n",
              "      <td>0.871699</td>\n",
              "      <td>0.054921</td>\n",
              "      <td>0.450440</td>\n",
              "      <td>0.0</td>\n",
              "    </tr>\n",
              "    <tr>\n",
              "      <th>3</th>\n",
              "      <td>0.531578</td>\n",
              "      <td>0.348662</td>\n",
              "      <td>0.424662</td>\n",
              "      <td>0.687362</td>\n",
              "      <td>0.0</td>\n",
              "    </tr>\n",
              "    <tr>\n",
              "      <th>4</th>\n",
              "      <td>0.822859</td>\n",
              "      <td>0.877275</td>\n",
              "      <td>0.057100</td>\n",
              "      <td>0.489711</td>\n",
              "      <td>0.0</td>\n",
              "    </tr>\n",
              "    <tr>\n",
              "      <th>...</th>\n",
              "      <td>...</td>\n",
              "      <td>...</td>\n",
              "      <td>...</td>\n",
              "      <td>...</td>\n",
              "      <td>...</td>\n",
              "    </tr>\n",
              "    <tr>\n",
              "      <th>1366</th>\n",
              "      <td>0.537124</td>\n",
              "      <td>0.565855</td>\n",
              "      <td>0.165249</td>\n",
              "      <td>0.726398</td>\n",
              "      <td>1.0</td>\n",
              "    </tr>\n",
              "    <tr>\n",
              "      <th>1367</th>\n",
              "      <td>0.407690</td>\n",
              "      <td>0.332868</td>\n",
              "      <td>0.506753</td>\n",
              "      <td>0.808350</td>\n",
              "      <td>1.0</td>\n",
              "    </tr>\n",
              "    <tr>\n",
              "      <th>1368</th>\n",
              "      <td>0.237385</td>\n",
              "      <td>0.011768</td>\n",
              "      <td>0.985603</td>\n",
              "      <td>0.524755</td>\n",
              "      <td>1.0</td>\n",
              "    </tr>\n",
              "    <tr>\n",
              "      <th>1369</th>\n",
              "      <td>0.250842</td>\n",
              "      <td>0.201701</td>\n",
              "      <td>0.761587</td>\n",
              "      <td>0.660675</td>\n",
              "      <td>1.0</td>\n",
              "    </tr>\n",
              "    <tr>\n",
              "      <th>1370</th>\n",
              "      <td>0.324528</td>\n",
              "      <td>0.490747</td>\n",
              "      <td>0.343348</td>\n",
              "      <td>0.885949</td>\n",
              "      <td>1.0</td>\n",
              "    </tr>\n",
              "  </tbody>\n",
              "</table>\n",
              "<p>1371 rows × 5 columns</p>\n",
              "</div>\n",
              "    <div class=\"colab-df-buttons\">\n",
              "\n",
              "  <div class=\"colab-df-container\">\n",
              "    <button class=\"colab-df-convert\" onclick=\"convertToInteractive('df-0c8e6140-80e4-4dcc-be26-53f2ed71bc58')\"\n",
              "            title=\"Convert this dataframe to an interactive table.\"\n",
              "            style=\"display:none;\">\n",
              "\n",
              "  <svg xmlns=\"http://www.w3.org/2000/svg\" height=\"24px\" viewBox=\"0 -960 960 960\">\n",
              "    <path d=\"M120-120v-720h720v720H120Zm60-500h600v-160H180v160Zm220 220h160v-160H400v160Zm0 220h160v-160H400v160ZM180-400h160v-160H180v160Zm440 0h160v-160H620v160ZM180-180h160v-160H180v160Zm440 0h160v-160H620v160Z\"/>\n",
              "  </svg>\n",
              "    </button>\n",
              "\n",
              "  <style>\n",
              "    .colab-df-container {\n",
              "      display:flex;\n",
              "      gap: 12px;\n",
              "    }\n",
              "\n",
              "    .colab-df-convert {\n",
              "      background-color: #E8F0FE;\n",
              "      border: none;\n",
              "      border-radius: 50%;\n",
              "      cursor: pointer;\n",
              "      display: none;\n",
              "      fill: #1967D2;\n",
              "      height: 32px;\n",
              "      padding: 0 0 0 0;\n",
              "      width: 32px;\n",
              "    }\n",
              "\n",
              "    .colab-df-convert:hover {\n",
              "      background-color: #E2EBFA;\n",
              "      box-shadow: 0px 1px 2px rgba(60, 64, 67, 0.3), 0px 1px 3px 1px rgba(60, 64, 67, 0.15);\n",
              "      fill: #174EA6;\n",
              "    }\n",
              "\n",
              "    .colab-df-buttons div {\n",
              "      margin-bottom: 4px;\n",
              "    }\n",
              "\n",
              "    [theme=dark] .colab-df-convert {\n",
              "      background-color: #3B4455;\n",
              "      fill: #D2E3FC;\n",
              "    }\n",
              "\n",
              "    [theme=dark] .colab-df-convert:hover {\n",
              "      background-color: #434B5C;\n",
              "      box-shadow: 0px 1px 3px 1px rgba(0, 0, 0, 0.15);\n",
              "      filter: drop-shadow(0px 1px 2px rgba(0, 0, 0, 0.3));\n",
              "      fill: #FFFFFF;\n",
              "    }\n",
              "  </style>\n",
              "\n",
              "    <script>\n",
              "      const buttonEl =\n",
              "        document.querySelector('#df-0c8e6140-80e4-4dcc-be26-53f2ed71bc58 button.colab-df-convert');\n",
              "      buttonEl.style.display =\n",
              "        google.colab.kernel.accessAllowed ? 'block' : 'none';\n",
              "\n",
              "      async function convertToInteractive(key) {\n",
              "        const element = document.querySelector('#df-0c8e6140-80e4-4dcc-be26-53f2ed71bc58');\n",
              "        const dataTable =\n",
              "          await google.colab.kernel.invokeFunction('convertToInteractive',\n",
              "                                                    [key], {});\n",
              "        if (!dataTable) return;\n",
              "\n",
              "        const docLinkHtml = 'Like what you see? Visit the ' +\n",
              "          '<a target=\"_blank\" href=https://colab.research.google.com/notebooks/data_table.ipynb>data table notebook</a>'\n",
              "          + ' to learn more about interactive tables.';\n",
              "        element.innerHTML = '';\n",
              "        dataTable['output_type'] = 'display_data';\n",
              "        await google.colab.output.renderOutput(dataTable, element);\n",
              "        const docLink = document.createElement('div');\n",
              "        docLink.innerHTML = docLinkHtml;\n",
              "        element.appendChild(docLink);\n",
              "      }\n",
              "    </script>\n",
              "  </div>\n",
              "\n",
              "\n",
              "<div id=\"df-af0a5b03-5aa9-49f8-9865-4108a997ce77\">\n",
              "  <button class=\"colab-df-quickchart\" onclick=\"quickchart('df-af0a5b03-5aa9-49f8-9865-4108a997ce77')\"\n",
              "            title=\"Suggest charts\"\n",
              "            style=\"display:none;\">\n",
              "\n",
              "<svg xmlns=\"http://www.w3.org/2000/svg\" height=\"24px\"viewBox=\"0 0 24 24\"\n",
              "     width=\"24px\">\n",
              "    <g>\n",
              "        <path d=\"M19 3H5c-1.1 0-2 .9-2 2v14c0 1.1.9 2 2 2h14c1.1 0 2-.9 2-2V5c0-1.1-.9-2-2-2zM9 17H7v-7h2v7zm4 0h-2V7h2v10zm4 0h-2v-4h2v4z\"/>\n",
              "    </g>\n",
              "</svg>\n",
              "  </button>\n",
              "\n",
              "<style>\n",
              "  .colab-df-quickchart {\n",
              "      --bg-color: #E8F0FE;\n",
              "      --fill-color: #1967D2;\n",
              "      --hover-bg-color: #E2EBFA;\n",
              "      --hover-fill-color: #174EA6;\n",
              "      --disabled-fill-color: #AAA;\n",
              "      --disabled-bg-color: #DDD;\n",
              "  }\n",
              "\n",
              "  [theme=dark] .colab-df-quickchart {\n",
              "      --bg-color: #3B4455;\n",
              "      --fill-color: #D2E3FC;\n",
              "      --hover-bg-color: #434B5C;\n",
              "      --hover-fill-color: #FFFFFF;\n",
              "      --disabled-bg-color: #3B4455;\n",
              "      --disabled-fill-color: #666;\n",
              "  }\n",
              "\n",
              "  .colab-df-quickchart {\n",
              "    background-color: var(--bg-color);\n",
              "    border: none;\n",
              "    border-radius: 50%;\n",
              "    cursor: pointer;\n",
              "    display: none;\n",
              "    fill: var(--fill-color);\n",
              "    height: 32px;\n",
              "    padding: 0;\n",
              "    width: 32px;\n",
              "  }\n",
              "\n",
              "  .colab-df-quickchart:hover {\n",
              "    background-color: var(--hover-bg-color);\n",
              "    box-shadow: 0 1px 2px rgba(60, 64, 67, 0.3), 0 1px 3px 1px rgba(60, 64, 67, 0.15);\n",
              "    fill: var(--button-hover-fill-color);\n",
              "  }\n",
              "\n",
              "  .colab-df-quickchart-complete:disabled,\n",
              "  .colab-df-quickchart-complete:disabled:hover {\n",
              "    background-color: var(--disabled-bg-color);\n",
              "    fill: var(--disabled-fill-color);\n",
              "    box-shadow: none;\n",
              "  }\n",
              "\n",
              "  .colab-df-spinner {\n",
              "    border: 2px solid var(--fill-color);\n",
              "    border-color: transparent;\n",
              "    border-bottom-color: var(--fill-color);\n",
              "    animation:\n",
              "      spin 1s steps(1) infinite;\n",
              "  }\n",
              "\n",
              "  @keyframes spin {\n",
              "    0% {\n",
              "      border-color: transparent;\n",
              "      border-bottom-color: var(--fill-color);\n",
              "      border-left-color: var(--fill-color);\n",
              "    }\n",
              "    20% {\n",
              "      border-color: transparent;\n",
              "      border-left-color: var(--fill-color);\n",
              "      border-top-color: var(--fill-color);\n",
              "    }\n",
              "    30% {\n",
              "      border-color: transparent;\n",
              "      border-left-color: var(--fill-color);\n",
              "      border-top-color: var(--fill-color);\n",
              "      border-right-color: var(--fill-color);\n",
              "    }\n",
              "    40% {\n",
              "      border-color: transparent;\n",
              "      border-right-color: var(--fill-color);\n",
              "      border-top-color: var(--fill-color);\n",
              "    }\n",
              "    60% {\n",
              "      border-color: transparent;\n",
              "      border-right-color: var(--fill-color);\n",
              "    }\n",
              "    80% {\n",
              "      border-color: transparent;\n",
              "      border-right-color: var(--fill-color);\n",
              "      border-bottom-color: var(--fill-color);\n",
              "    }\n",
              "    90% {\n",
              "      border-color: transparent;\n",
              "      border-bottom-color: var(--fill-color);\n",
              "    }\n",
              "  }\n",
              "</style>\n",
              "\n",
              "  <script>\n",
              "    async function quickchart(key) {\n",
              "      const quickchartButtonEl =\n",
              "        document.querySelector('#' + key + ' button');\n",
              "      quickchartButtonEl.disabled = true;  // To prevent multiple clicks.\n",
              "      quickchartButtonEl.classList.add('colab-df-spinner');\n",
              "      try {\n",
              "        const charts = await google.colab.kernel.invokeFunction(\n",
              "            'suggestCharts', [key], {});\n",
              "      } catch (error) {\n",
              "        console.error('Error during call to suggestCharts:', error);\n",
              "      }\n",
              "      quickchartButtonEl.classList.remove('colab-df-spinner');\n",
              "      quickchartButtonEl.classList.add('colab-df-quickchart-complete');\n",
              "    }\n",
              "    (() => {\n",
              "      let quickchartButtonEl =\n",
              "        document.querySelector('#df-af0a5b03-5aa9-49f8-9865-4108a997ce77 button');\n",
              "      quickchartButtonEl.style.display =\n",
              "        google.colab.kernel.accessAllowed ? 'block' : 'none';\n",
              "    })();\n",
              "  </script>\n",
              "</div>\n",
              "    </div>\n",
              "  </div>\n"
            ]
          },
          "metadata": {},
          "execution_count": 12
        }
      ]
    },
    {
      "cell_type": "code",
      "source": [
        "if len(df_normalized.columns) == 1:\n",
        "    # Split the single column into multiple columns by the comma delimiter\n",
        "    df_normalized = df_normalized.iloc[:, 0].str.split(',', expand=True)\n",
        "\n",
        "# Convert the split columns to numeric types\n",
        "df_normalized = df_normalized.apply(pd.to_numeric)\n",
        "\n",
        "# Check if there are 5 columns\n",
        "if df_normalized.shape[1] == 5:\n",
        "    # Split into features (X) and label (Y)\n",
        "    X_norm = df_normalized.iloc[:, :-1]\n",
        "    Y_norm = df_normalized.iloc[:, -1]\n",
        "\n",
        "# Convert X and Y to numpy arrays\n",
        "X_array_norm = X_norm.to_numpy()\n",
        "Y_array_norm = Y_norm.to_numpy()"
      ],
      "metadata": {
        "id": "iRlbnmzLitza"
      },
      "execution_count": 13,
      "outputs": []
    },
    {
      "cell_type": "code",
      "source": [
        "X_array_norm"
      ],
      "metadata": {
        "id": "fiK6AAS5i_HB",
        "outputId": "7ec058f5-9af8-4b75-d2cc-24ee0aa1b592",
        "colab": {
          "base_uri": "https://localhost:8080/"
        }
      },
      "execution_count": 14,
      "outputs": [
        {
          "output_type": "execute_result",
          "data": {
            "text/plain": [
              "array([[0.83565902, 0.82098209, 0.12180412, 0.64432563],\n",
              "       [0.78662859, 0.41664827, 0.31060805, 0.78695091],\n",
              "       [0.75710505, 0.87169921, 0.05492063, 0.45043964],\n",
              "       ...,\n",
              "       [0.23738543, 0.01176814, 0.98560321, 0.52475518],\n",
              "       [0.25084193, 0.20170105, 0.76158701, 0.6606745 ],\n",
              "       [0.32452819, 0.49074676, 0.34334762, 0.88594888]])"
            ]
          },
          "metadata": {},
          "execution_count": 14
        }
      ]
    },
    {
      "cell_type": "code",
      "source": [
        "len(X_array)"
      ],
      "metadata": {
        "colab": {
          "base_uri": "https://localhost:8080/"
        },
        "id": "08nPxrEBrpE1",
        "outputId": "4789f698-39d1-4800-8ae8-a16c2120704d"
      },
      "execution_count": 15,
      "outputs": [
        {
          "output_type": "execute_result",
          "data": {
            "text/plain": [
              "1371"
            ]
          },
          "metadata": {},
          "execution_count": 15
        }
      ]
    },
    {
      "cell_type": "code",
      "source": [
        "len(Y_array)"
      ],
      "metadata": {
        "colab": {
          "base_uri": "https://localhost:8080/"
        },
        "id": "rgyAcovorsbD",
        "outputId": "9bf83136-ba4b-44d3-9de3-8276e7bc4f8f"
      },
      "execution_count": 16,
      "outputs": [
        {
          "output_type": "execute_result",
          "data": {
            "text/plain": [
              "1371"
            ]
          },
          "metadata": {},
          "execution_count": 16
        }
      ]
    },
    {
      "cell_type": "markdown",
      "source": [
        "# Functions"
      ],
      "metadata": {
        "id": "hNd19Teur9Oi"
      }
    },
    {
      "cell_type": "markdown",
      "source": [
        "### Activation Functions"
      ],
      "metadata": {
        "id": "Gxmu6Hfs2ksg"
      }
    },
    {
      "cell_type": "code",
      "source": [
        "class ActivationFunctions:\n",
        "  def evaluate(self,x):\n",
        "    pass\n",
        "  def derivate(self,x):\n",
        "    pass\n",
        "\n",
        "class Identity:\n",
        "  def evaluate(self,x):\n",
        "    return x\n",
        "  def derivative(self,x):\n",
        "    return 1\n",
        "\n",
        "class Sigmoid(ActivationFunctions):\n",
        "  def evaluate(self,x):\n",
        "    x_clipped = np.clip(x, -500, 500)\n",
        "    return 1 / (1 + np.exp(-x_clipped))\n",
        "  def derivative(self,x):\n",
        "    f = self.evaluate(x)\n",
        "    return f * (1-f)\n",
        "\n",
        "class Tanh(ActivationFunctions):\n",
        "  def evaluate(self,x):\n",
        "    return np.tanh(x)\n",
        "  def derivative(self,x):\n",
        "    f = self.evaluate(x)\n",
        "    return 1 - f ** 2\n",
        "\n",
        "class relu(ActivationFunctions):\n",
        "  def evaluate(self,x):\n",
        "    return np.maximum(0, x)\n",
        "  def derivative(self,x):\n",
        "    return (x > 0).astype(float)"
      ],
      "metadata": {
        "id": "G1TURV8R1wdl"
      },
      "execution_count": 80,
      "outputs": []
    },
    {
      "cell_type": "markdown",
      "source": [
        "### Loss Functions"
      ],
      "metadata": {
        "id": "Tf7nIvVFBYbo"
      }
    },
    {
      "cell_type": "code",
      "source": [
        "class LossFunctions:\n",
        "  def evaluate(self,x):\n",
        "    pass\n",
        "  def derivate(self,x):\n",
        "    pass\n",
        "\n",
        "# y is predictions made by the neural network\n",
        "# t is target/actual numbers corresponding to inputs\n",
        "class Mse(LossFunctions):\n",
        "  def evaluate(self, y, t):\n",
        "    return ((t - y) ** 2).mean()\n",
        "  def derivative(self, y, t):\n",
        "    return 2 * (y - t) / len(y)\n",
        "\n",
        "class BinaryCrossEntropy(LossFunctions):\n",
        "  def evaluate(self, y, t):\n",
        "    y_pred = np.clip(y, 1e-7, 1 - 1e-7)\n",
        "    term0 = (1 - t) * np.log(1 - y_pred + 1e-7)\n",
        "    term1 = t * np.log(y_pred + 1e-7)\n",
        "    return - (term0 + term1).mean()\n",
        "\n",
        "  def derivative(self, y, t):\n",
        "    y_pred = np.clip(y, 1e-7, 1 - 1e-7)\n",
        "    return (t / y_pred) - (1 - t) / (1 - y_pred)\n",
        "\n",
        "class Hinge(LossFunctions):\n",
        "  def evaluate(self, y, t):\n",
        "    return np.maximum(0, 1 - t * y).mean()\n",
        "\n",
        "  def derivative(self, y, t):\n",
        "    return np.where(t * y < 1, -t, 0)"
      ],
      "metadata": {
        "id": "LQ_E70ULvdxe"
      },
      "execution_count": 18,
      "outputs": []
    },
    {
      "cell_type": "markdown",
      "source": [
        "# Neural Network"
      ],
      "metadata": {
        "id": "p77acdcFG12_"
      }
    },
    {
      "cell_type": "code",
      "source": [
        "class InputLayer:\n",
        "    def __init__(self, input_size):\n",
        "        self.nb_nodes = input_size\n",
        "\n",
        "    def forward(self, input_data):\n",
        "        return input_data\n",
        "\n",
        "class Layer:\n",
        "    def __init__(self, input_size, nodes, activation, weights=None, biases=None):\n",
        "        self.nb_nodes = nodes\n",
        "        self.W = weights if weights is not None else np.random.randn(input_size, nodes)\n",
        "        self.B = biases if biases is not None else np.random.randn(nodes)\n",
        "        self.activation = activation\n",
        "\n",
        "    def forward(self, input_data):\n",
        "        self.X_in = input_data\n",
        "        z = np.dot(input_data, self.W) + self.B\n",
        "        out = self.activation.evaluate(z)\n",
        "        return out\n",
        "\n",
        "class NeuralNetwork:\n",
        "    def __init__(self, configuration, position=None):\n",
        "        self.layers = []\n",
        "        input_size = configuration[0]\n",
        "\n",
        "        # The input layer is simply added as a pass-through layer\n",
        "        self.layers.append(InputLayer(input_size))\n",
        "\n",
        "        # If a position vector is provided, it contains weights and biases for each layer\n",
        "        if position is not None:\n",
        "            for idx, (nodes, activation) in enumerate(configuration[1:]):\n",
        "                weights, biases = position[idx]\n",
        "                # print(\"layer \", idx, \"W = \",weights, \"B = \", biases )\n",
        "                layer = Layer(input_size, nodes, activation, weights=weights, biases=biases)\n",
        "                self.add(layer)\n",
        "                input_size = nodes  # Update input size for the next layer\n",
        "        else:\n",
        "            # If no position vector, initialize layers with random weights and biases\n",
        "            for nodes, activation in configuration[1:]:\n",
        "                layer = Layer(input_size, nodes, activation)\n",
        "                self.add(layer)\n",
        "                input_size = nodes  # Update input size for the next layer\n",
        "\n",
        "    def add(self, layer):\n",
        "        self.layers.append(layer)\n",
        "\n",
        "    def forward(self, input_data):\n",
        "        for layer in self.layers:\n",
        "            input_data = layer.forward(input_data)\n",
        "        return input_data\n",
        "\n",
        "    def print_layers(self):\n",
        "        for i, layer in enumerate(self.layers):\n",
        "            if isinstance(layer, InputLayer):\n",
        "                print(f\"Layer {i}: Input Layer with {layer.nb_nodes} nodes\")\n",
        "            elif isinstance(layer, Layer):\n",
        "                print(f\"Layer {i}: Hidden Layer with {layer.nb_nodes} nodes, Activation Function: {layer.activation.__class__.__name__}\")\n",
        "                print(f\"  Weights Shape: {layer.W.shape}, Biases Shape: {layer.B.shape}\")\n",
        "                print(f\"  Weights= : {layer.W}, Biases= {layer.B}\")\n",
        "            else:\n",
        "                print(f\"Layer {i}: Unknown Layer Type\")\n",
        "\n",
        "    def flatten_weights_and_biases(self):\n",
        "        flattened_vector = []\n",
        "        for layer in self.layers:\n",
        "            if isinstance(layer, Layer):\n",
        "                # Flatten and append weights and biases of this layer\n",
        "                flattened_weights = layer.W.flatten()\n",
        "                flattened_biases = layer.B.flatten()\n",
        "                flattened_vector.extend(flattened_weights.tolist())\n",
        "                flattened_vector.extend(flattened_biases.tolist())\n",
        "        return flattened_vector"
      ],
      "metadata": {
        "id": "WEK6G4PyG0tX"
      },
      "execution_count": 81,
      "outputs": []
    },
    {
      "cell_type": "code",
      "source": [
        "def unflatten_weights_and_biases(flattened_vector, configuration):\n",
        "    position = []\n",
        "    index = 0\n",
        "\n",
        "    # Skip the input layer configuration, as it doesn't have weights or biases\n",
        "    for nodes, _ in configuration[1:]:\n",
        "        # Previous layer's node count is the number of rows for weights\n",
        "        input_size = configuration[0] if not position else position[-1][0].shape[1]\n",
        "\n",
        "        # Calculate the number of weights and biases\n",
        "        num_weights = input_size * nodes\n",
        "        num_biases = nodes\n",
        "\n",
        "        # Extract weights and biases from the flattened vector\n",
        "        weights = flattened_vector[index : index + num_weights]\n",
        "        biases = flattened_vector[index + num_weights : index + num_weights + num_biases]\n",
        "\n",
        "        # Reshape weights to the correct dimensions and add to position\n",
        "        position.append((np.array(weights).reshape(input_size, nodes), np.array(biases)))\n",
        "\n",
        "        # Update the index\n",
        "        index += num_weights + num_biases\n",
        "\n",
        "    return position"
      ],
      "metadata": {
        "id": "ARTTH2p-7XSg"
      },
      "execution_count": 82,
      "outputs": []
    },
    {
      "cell_type": "code",
      "source": [
        "relu_activation = relu()\n",
        "sigmoid_activation = Sigmoid()\n",
        "tanh_activation = Tanh()"
      ],
      "metadata": {
        "id": "mu9Ux9u4Nafz"
      },
      "execution_count": 83,
      "outputs": []
    },
    {
      "cell_type": "code",
      "source": [
        "config = [\n",
        "    4,\n",
        "    [3, relu_activation],\n",
        "    [4, sigmoid_activation],\n",
        "    [1, sigmoid_activation]\n",
        "]"
      ],
      "metadata": {
        "id": "tEolcAKSNQR1"
      },
      "execution_count": 84,
      "outputs": []
    },
    {
      "cell_type": "code",
      "source": [
        "nn = NeuralNetwork(config)"
      ],
      "metadata": {
        "id": "b3y-R0pINKps"
      },
      "execution_count": 85,
      "outputs": []
    },
    {
      "cell_type": "code",
      "source": [
        "nn.print_layers()"
      ],
      "metadata": {
        "id": "kOmgMXN6OdNT",
        "outputId": "36790b20-a7a7-46b1-cc94-69ee5557c8ff",
        "colab": {
          "base_uri": "https://localhost:8080/"
        }
      },
      "execution_count": 86,
      "outputs": [
        {
          "output_type": "stream",
          "name": "stdout",
          "text": [
            "Layer 0: Input Layer with 4 nodes\n",
            "Layer 1: Hidden Layer with 3 nodes, Activation Function: relu\n",
            "  Weights Shape: (4, 3), Biases Shape: (3,)\n",
            "  Weights= : [[ 0.3215107   0.11503511 -1.26228778]\n",
            " [-0.2106901  -0.16421947  0.58417214]\n",
            " [-0.73048839 -1.19860423  1.1202273 ]\n",
            " [ 1.14389398 -0.48555315  0.12429688]], Biases= [ 0.03642908  2.30084212 -0.26933962]\n",
            "Layer 2: Hidden Layer with 4 nodes, Activation Function: Sigmoid\n",
            "  Weights Shape: (3, 4), Biases Shape: (4,)\n",
            "  Weights= : [[-0.91336004  0.27101005  1.17715085 -1.67528535]\n",
            " [ 0.27906003 -1.09941883  1.06352397  0.45982586]\n",
            " [ 1.22863227  0.35023001 -0.50902651  0.9521153 ]], Biases= [-0.50855783  1.0857746   0.23798076  0.18581957]\n",
            "Layer 3: Hidden Layer with 1 nodes, Activation Function: Sigmoid\n",
            "  Weights Shape: (4, 1), Biases Shape: (1,)\n",
            "  Weights= : [[ 0.53128976]\n",
            " [-1.34006498]\n",
            " [-0.41632676]\n",
            " [-0.76823302]], Biases= [-1.10816533]\n"
          ]
        }
      ]
    },
    {
      "cell_type": "code",
      "source": [
        "flattened_vector = nn.flatten_weights_and_biases()\n",
        "print(flattened_vector)"
      ],
      "metadata": {
        "id": "2uQ3Oj14ScRt",
        "outputId": "824120d9-91bf-4c60-b02a-02c12663bd93",
        "colab": {
          "base_uri": "https://localhost:8080/"
        }
      },
      "execution_count": 87,
      "outputs": [
        {
          "output_type": "stream",
          "name": "stdout",
          "text": [
            "[0.3215106986616054, 0.11503510537381306, -1.2622877837830109, -0.21069009610353426, -0.1642194683556188, 0.5841721381353, -0.7304883905699386, -1.1986042307015305, 1.1202272973653138, 1.1438939776633312, -0.48555315161074813, 0.12429688202669381, 0.036429075232985116, 2.300842123929871, -0.26933962458382166, -0.9133600395626756, 0.2710100515235876, 1.1771508500820695, -1.6752853456715298, 0.27906002855600576, -1.0994188267269, 1.0635239687303495, 0.4598258553876075, 1.2286322658561628, 0.3502300077852924, -0.5090265109694855, 0.9521153034999306, -0.5085578298091379, 1.0857745980055618, 0.23798075731139798, 0.18581957367327398, 0.5312897595509614, -1.3400649846291213, -0.41632675676496145, -0.7682330205773064, -1.1081653325234606]\n"
          ]
        }
      ]
    },
    {
      "cell_type": "code",
      "source": [
        "# unflatten_weights_and_biases(flattened_vector, config)"
      ],
      "metadata": {
        "id": "JqxPguYd7bl-"
      },
      "execution_count": 88,
      "outputs": []
    },
    {
      "cell_type": "code",
      "source": [
        "input_data = X_array_norm\n",
        "\n",
        "nn_init_pred = nn.forward(input_data)"
      ],
      "metadata": {
        "id": "7E7c3z5rUxgr"
      },
      "execution_count": 89,
      "outputs": []
    },
    {
      "cell_type": "code",
      "source": [
        "nn_init_pred"
      ],
      "metadata": {
        "colab": {
          "base_uri": "https://localhost:8080/"
        },
        "id": "Mwz-Cxb4VSs9",
        "outputId": "6465b493-aa54-4c94-92bc-4534e703b2ab"
      },
      "execution_count": 90,
      "outputs": [
        {
          "output_type": "execute_result",
          "data": {
            "text/plain": [
              "array([[0.10819151],\n",
              "       [0.10308085],\n",
              "       [0.10964103],\n",
              "       ...,\n",
              "       [0.08045941],\n",
              "       [0.08366922],\n",
              "       [0.09736039]])"
            ]
          },
          "metadata": {},
          "execution_count": 90
        }
      ]
    },
    {
      "cell_type": "code",
      "source": [
        "len(nn_init_pred)"
      ],
      "metadata": {
        "colab": {
          "base_uri": "https://localhost:8080/"
        },
        "id": "neolCu-cVg2h",
        "outputId": "26bef8ec-2e00-4e0c-bd30-47d6483dfe02"
      },
      "execution_count": 91,
      "outputs": [
        {
          "output_type": "execute_result",
          "data": {
            "text/plain": [
              "1371"
            ]
          },
          "metadata": {},
          "execution_count": 91
        }
      ]
    },
    {
      "cell_type": "code",
      "source": [
        "def calculate_fitness(neural_network, X, Y, loss_function):\n",
        "    predictions = neural_network.forward(X)\n",
        "    # print(predictions[0])\n",
        "    loss = loss_function.evaluate(predictions.flatten(), Y)\n",
        "    # print(\"Loss\",loss)\n",
        "    # print(\"predictions = \",predictions.flatten())\n",
        "    # print(\"len(predictions) = \",len(predictions.flatten()))\n",
        "    return loss,predictions\n",
        "\n",
        "loss_function = BinaryCrossEntropy()\n",
        "initial_fitness,predictions = calculate_fitness(nn, X, Y, loss_function)\n",
        "print(\"initial_fitness\", initial_fitness)"
      ],
      "metadata": {
        "colab": {
          "base_uri": "https://localhost:8080/"
        },
        "id": "bzcXBAtvVNai",
        "outputId": "825f4793-6cc8-4989-e32d-95e3b536072c"
      },
      "execution_count": 92,
      "outputs": [
        {
          "output_type": "stream",
          "name": "stdout",
          "text": [
            "initial_fitness 1.121078399900845\n"
          ]
        }
      ]
    },
    {
      "cell_type": "code",
      "source": [
        "def forward_pass(X, Y, W):\n",
        "    # Rebuild the neural network with the given weights\n",
        "    position = unflatten_weights_and_biases(W, config)\n",
        "    # print(position)\n",
        "    neural_network = NeuralNetwork(config, position=position)\n",
        "\n",
        "    # Perform forward pass\n",
        "    predictions = neural_network.forward(X)\n",
        "\n",
        "    # Calculate loss\n",
        "    loss = loss_function.evaluate(predictions.flatten(), Y)\n",
        "    return loss"
      ],
      "metadata": {
        "id": "WJ2kRhgZ7xDj"
      },
      "execution_count": 93,
      "outputs": []
    },
    {
      "cell_type": "code",
      "source": [
        "loss = forward_pass(X, Y, flattened_vector)\n",
        "print(loss)"
      ],
      "metadata": {
        "colab": {
          "base_uri": "https://localhost:8080/"
        },
        "id": "qMCzRqymCd0S",
        "outputId": "0f2c6b4c-503e-4d1b-9224-384a58854d1b"
      },
      "execution_count": 94,
      "outputs": [
        {
          "output_type": "stream",
          "name": "stdout",
          "text": [
            "1.121078399900845\n"
          ]
        }
      ]
    },
    {
      "cell_type": "code",
      "source": [
        "def get_accuracy(Y, Y_pred):\n",
        "    \"\"\"\n",
        "    Calcualtes accuracy.\n",
        "    :param Y: int(N, )\n",
        "        Correct labels.\n",
        "    :param Y_pred: int(N, ) | double(N, C)\n",
        "        Predicted labels of shape(N, ) or (N, C) in case of one-hot vector.\n",
        "    :return: double\n",
        "        Accuracy.\n",
        "    \"\"\"\n",
        "    predicted_classes = (Y_pred >= 0.5).astype(int) # Convert probabilities to class labels\n",
        "    return (Y == predicted_classes).mean()"
      ],
      "metadata": {
        "id": "9fvQzmaKn4bG"
      },
      "execution_count": 95,
      "outputs": []
    },
    {
      "cell_type": "code",
      "source": [
        "get_accuracy(Y_array, predictions.flatten())"
      ],
      "metadata": {
        "colab": {
          "base_uri": "https://localhost:8080/"
        },
        "id": "5Rrm5RdOn_BG",
        "outputId": "779a80dc-3156-4085-b5a3-51ab58624d5b"
      },
      "execution_count": 96,
      "outputs": [
        {
          "output_type": "execute_result",
          "data": {
            "text/plain": [
              "0.5550692924872356"
            ]
          },
          "metadata": {},
          "execution_count": 96
        }
      ]
    },
    {
      "cell_type": "code",
      "source": [
        "class Particle:\n",
        "    \"\"\"\n",
        "    Particle is a neural network representing a potential solution.\n",
        "    \"\"\"\n",
        "    def __init__(self, num_dim, x_range, v_range):\n",
        "        \"\"\"\n",
        "        Particle class constructor\n",
        "        :param num_dim: int\n",
        "            Number of dimensions.\n",
        "        :param x_range: tuple(double)\n",
        "            Range of dimension.\n",
        "        :param v_range: tuple(double)\n",
        "            Range of velocity.\n",
        "        \"\"\"\n",
        "\n",
        "        self.x = np.random.uniform(x_range[0], x_range[1], (num_dim, )) # particle position\n",
        "        self.v = np.random.uniform(v_range[0], v_range[1], (num_dim, )) # particle velocity\n",
        "        self.pbest = np.inf                                             # personal best fitness\n",
        "        self.pbestpos = np.zeros((num_dim, ))                           # personal best position\n",
        "        self.informants_best_position = np.zeros((num_dim, ))           # informants best position\n",
        "        self.informants = []                                            # particle's informants\n",
        "\n",
        "    def update_informant_best(self, swarm):\n",
        "        best_fitness = np.inf\n",
        "        for informant in self.informants:\n",
        "            if swarm[informant].pbest < best_fitness:\n",
        "                best_fitness = swarm[informant].pbest\n",
        "                self.informants_best_position = swarm[informant].pbestpos.copy()\n",
        "\n",
        "    def update_velocity(self, global_best_position, alpha, beta, gamma, delta):\n",
        "        r1, r2, r3 = np.random.rand(3)  # Random coefficients for stochastic components\n",
        "        cognitive_component = beta * r1 * (self.pbestpos - self.x)\n",
        "        social_component = gamma * r2 * (self.informants_best_position - self.x)\n",
        "        global_component = delta * r3 * (global_best_position - self.x)\n",
        "        self.v = alpha * self.v + cognitive_component + social_component + global_component"
      ],
      "metadata": {
        "id": "H5E5uT3ztJGJ"
      },
      "execution_count": 97,
      "outputs": []
    },
    {
      "cell_type": "code",
      "source": [
        "class Swarm:\n",
        "    \"\"\"\n",
        "    The Swarm class is a collection of potential solutions, each represented by a particle.\n",
        "    \"\"\"\n",
        "    def __init__(self, no_particle, num_dim, x_range, v_range, iw_range, c, num_informants):\n",
        "        \"\"\"\n",
        "        Swarm class constructor.\n",
        "        :param no_particle: int\n",
        "            Number of particles\n",
        "        :param num_dim: int\n",
        "            Number of dimensions.\n",
        "        :param x_range: tuple(double)\n",
        "            Range of dimensions.\n",
        "        :param v_range: tuple(double)\n",
        "            Range of velocities.\n",
        "        :param iw_range: tuple(double)\n",
        "            Range of interia weights.\n",
        "        :param c: 4-tuple(double)\n",
        "            c[0] -> cognitive parameter, c[1] -> social parameter, c[2] -> Global weight, c[3] -> Inertia weight\n",
        "        :param num_informants: int\n",
        "            Number of informants\n",
        "        \"\"\"\n",
        "        self.p = np.array([Particle(num_dim, x_range, v_range) for i in range(no_particle)])\n",
        "        self.gbest = np.inf\n",
        "        self.gbestpos = np.zeros((num_dim, ))\n",
        "        self.x_range = x_range\n",
        "        self.v_range = v_range\n",
        "        self.iw_range = iw_range\n",
        "        self.c0 = c[0]            # Cognitive weight\n",
        "        self.c1 = c[1]            # Social weight\n",
        "        self.c2 = c[2]            # Global weight\n",
        "        self.c3 = c[3]            # Inertia weight\n",
        "        self.num_dim = num_dim    # Number of dimensions, in this case the total number of weights & biases\n",
        "        self.num_informants = num_informants\n",
        "        self.assign_informants()\n",
        "\n",
        "    def print_informants(self):\n",
        "        \"\"\"\n",
        "        Function prints the informants of every particle.\n",
        "        \"\"\"\n",
        "        for i, particle in enumerate(self.p):\n",
        "            # Print the particle's index and its informants\n",
        "            print(f\"Particle {i} informants: {particle.informants}\")\n",
        "\n",
        "    def assign_informants(self):\n",
        "        \"\"\"\n",
        "        Function assigns informants to every particle\n",
        "        \"\"\"\n",
        "        for i, particle in enumerate(self.p):\n",
        "            informants = set()\n",
        "            # add informants until they are num_informants in informants set\n",
        "            while len(informants) < self.num_informants:\n",
        "                # Randomly select a potential informant\n",
        "                possible_informant = np.random.randint(0, len(self.p))\n",
        "                # if selected informant is not the particle itself, add it to set\n",
        "                if possible_informant != i:\n",
        "                    informants.add(possible_informant)\n",
        "            particle.informants = np.array(list(informants))\n",
        "\n",
        "    def optimize(self, function, X, Y,  print_step,  iter):\n",
        "        \"\"\"\n",
        "        Function used to start optimization.\n",
        "        :param function: function\n",
        "            Function to be optimized\n",
        "        :param X: input data\n",
        "            Used in forward pass.\n",
        "        :param Y: target class\n",
        "            Used to calculate loss.\n",
        "        :param print_step: int\n",
        "            Step for printing\n",
        "        :param iter: int\n",
        "            Number of iterations.\n",
        "        \"\"\"\n",
        "        for i in range(iter):\n",
        "            for particle in self.p:\n",
        "                # print(\"particle.x\",particle.x)\n",
        "                fitness = function(X, Y, particle.x)\n",
        "                # print(\"fitness\",fitness)\n",
        "                # print(\"particle.pbest\",particle.pbest)\n",
        "\n",
        "                if fitness < particle.pbest:\n",
        "                    particle.pbest = fitness\n",
        "                    particle.pbestpos = particle.x.copy()\n",
        "\n",
        "                if fitness < self.gbest:\n",
        "                    self.gbest = fitness\n",
        "                    self.gbestpos = particle.x.copy()\n",
        "\n",
        "            for particle in self.p:\n",
        "                # update informants best\n",
        "                particle.update_informant_best(self.p)\n",
        "                # update the velocity using the new social weight\n",
        "                # particle.update_velocity(self.gbestpos, self.iw_range[1], self.c0, self.c1, self.c2)\n",
        "                particle.update_velocity(self.gbestpos, self.c3, self.c0, self.c1, self.c2)\n",
        "                # update particle position\n",
        "                particle.x = particle.x + particle.v\n",
        "\n",
        "            if i % print_step == 0:\n",
        "                print('iteration#: ', i+1,  ' loss: ', fitness)\n",
        "\n",
        "        print(\"global best loss: \", self.gbest)\n",
        "\n",
        "    def get_best_solution(self):\n",
        "        '''\n",
        "\n",
        "        :return: array of parameters/weights.\n",
        "        '''\n",
        "        return self.gbestpos"
      ],
      "metadata": {
        "id": "r-Zppi33tVF7"
      },
      "execution_count": 107,
      "outputs": []
    },
    {
      "cell_type": "code",
      "source": [
        "def get_num_dim(configuration):\n",
        "  total_weights = 0\n",
        "  total_biases = 0\n",
        "\n",
        "  # The number of nodes in the previous layer, initially the input layer\n",
        "  prev_nodes = configuration[0]\n",
        "\n",
        "  # Loop through each layer (excluding the input layer)\n",
        "  for layer in configuration[1:]:\n",
        "      # Extract the number of nodes in the current layer\n",
        "      nodes = layer[0]\n",
        "\n",
        "      # Calculate weights and biases for the current layer\n",
        "      weights = prev_nodes * nodes\n",
        "      biases = nodes\n",
        "\n",
        "      # Add to total weights and biases\n",
        "      total_weights += weights\n",
        "      total_biases += biases\n",
        "\n",
        "      # Update prev_nodes for the next iteration\n",
        "      prev_nodes = nodes\n",
        "\n",
        "  # Output the total number of dimensions\n",
        "  total_dimensions = total_weights + total_biases\n",
        "  return total_dimensions"
      ],
      "metadata": {
        "id": "_fSlbOplvWPa"
      },
      "execution_count": 108,
      "outputs": []
    },
    {
      "cell_type": "code",
      "source": [
        "if __name__ == '__main__':\n",
        "    no_solution = 10\n",
        "    no_dim = get_num_dim(config)\n",
        "    w_range = (0.0, 1.0)\n",
        "    lr_range = (0.0, 1.0)\n",
        "    iw_range = (0, 1)  # iw -> inertial weight\n",
        "    c = (0.5, 0.3, 0.2, 0.9)  # c[0] -> cognitive factor, c[1] -> global factor,  c[2] -> social factor, c[3] -> inertial weight\n",
        "    num_informants = 5\n",
        "\n",
        "    s = Swarm(no_solution, no_dim, w_range, lr_range, iw_range, c, num_informants)\n",
        "    s.print_informants()\n",
        "\n",
        "    # Train:Test Split\n",
        "    test_size = 0.2  # User defined split ratio\n",
        "    X_train, X_test, Y_train, Y_test = train_test_split(X, Y, test_size=test_size, random_state=42)\n",
        "\n",
        "    s.optimize(forward_pass, X_train, Y_train, 20, 100)\n",
        "    W = s.get_best_solution()\n",
        "\n",
        "    # Perform forward pass with the best solution (weights)\n",
        "    best_position = unflatten_weights_and_biases(W, config)\n",
        "    best_nn = NeuralNetwork(config, position=best_position)\n",
        "\n",
        "    Y_pred = best_nn.forward(X_train).flatten()\n",
        "    Y_pred2 = best_nn.forward(X_test).flatten()\n",
        "\n",
        "    # Calculate and print accuracy\n",
        "    accuracy = get_accuracy(Y_train.to_numpy().flatten(), Y_pred)\n",
        "    print(\"Train Accuracy: %.3f\" % accuracy)\n",
        "\n",
        "    # Calculate and print accuracy\n",
        "    accuracy = get_accuracy(Y_test.to_numpy().flatten(), Y_pred2)\n",
        "    print(\"Test Accuracy: %.3f\" % accuracy)\n"
      ],
      "metadata": {
        "colab": {
          "base_uri": "https://localhost:8080/"
        },
        "id": "wu-kLxdAKCB-",
        "outputId": "c52ee31c-a7a9-44ef-dd7d-18f0eca01dde"
      },
      "execution_count": 117,
      "outputs": [
        {
          "output_type": "stream",
          "name": "stdout",
          "text": [
            "Particle 0 informants: [1 2 3 6 9]\n",
            "Particle 1 informants: [3 5 6 7 9]\n",
            "Particle 2 informants: [3 5 6 7 9]\n",
            "Particle 3 informants: [2 5 7 8 9]\n",
            "Particle 4 informants: [0 2 3 5 9]\n",
            "Particle 5 informants: [1 2 4 7 8]\n",
            "Particle 6 informants: [0 1 2 5 8]\n",
            "Particle 7 informants: [3 4 5 8 9]\n",
            "Particle 8 informants: [0 3 5 6 7]\n",
            "Particle 9 informants: [1 2 3 5 6]\n",
            "iteration#:  1  loss:  1.3354062890407492\n",
            "iteration#:  21  loss:  1.0055018515081213\n",
            "iteration#:  41  loss:  0.7202602881236692\n",
            "iteration#:  61  loss:  0.6978406607541124\n",
            "iteration#:  81  loss:  0.666273875406078\n",
            "global best loss:  0.6608007682739981\n",
            "Train Accuracy: 0.648\n",
            "Test Accuracy: 0.622\n"
          ]
        }
      ]
    },
    {
      "cell_type": "code",
      "source": [],
      "metadata": {
        "id": "1K-aO-ky9iUM"
      },
      "execution_count": null,
      "outputs": []
    }
  ]
}