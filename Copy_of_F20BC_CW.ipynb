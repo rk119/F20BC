{
  "nbformat": 4,
  "nbformat_minor": 0,
  "metadata": {
    "colab": {
      "provenance": [],
      "include_colab_link": true
    },
    "kernelspec": {
      "name": "python3",
      "display_name": "Python 3"
    },
    "language_info": {
      "name": "python"
    }
  },
  "cells": [
    {
      "cell_type": "markdown",
      "metadata": {
        "id": "view-in-github",
        "colab_type": "text"
      },
      "source": [
        "<a href=\"https://colab.research.google.com/github/rk119/F20BC/blob/main/Copy_of_F20BC_CW.ipynb\" target=\"_parent\"><img src=\"https://colab.research.google.com/assets/colab-badge.svg\" alt=\"Open In Colab\"/></a>"
      ]
    },
    {
      "cell_type": "markdown",
      "source": [
        "# Setup"
      ],
      "metadata": {
        "id": "01BcyuF4r555"
      }
    },
    {
      "cell_type": "code",
      "source": [
        "from google.colab import drive\n",
        "drive.mount('/content/drive')"
      ],
      "metadata": {
        "colab": {
          "base_uri": "https://localhost:8080/"
        },
        "id": "0AHQBAak1C2e",
        "outputId": "7004c299-b879-46ac-f934-54e2efa75756"
      },
      "execution_count": 1,
      "outputs": [
        {
          "output_type": "stream",
          "name": "stdout",
          "text": [
            "Drive already mounted at /content/drive; to attempt to forcibly remount, call drive.mount(\"/content/drive\", force_remount=True).\n"
          ]
        }
      ]
    },
    {
      "cell_type": "markdown",
      "source": [
        "### Imports"
      ],
      "metadata": {
        "id": "VYPxaBz51td2"
      }
    },
    {
      "cell_type": "code",
      "execution_count": 2,
      "metadata": {
        "id": "QI20V0N8zYFY"
      },
      "outputs": [],
      "source": [
        "import numpy as np\n",
        "import pandas as pd\n",
        "from sklearn.model_selection import train_test_split\n",
        "import matplotlib.pyplot as plt\n",
        "from sklearn.decomposition import PCA"
      ]
    },
    {
      "cell_type": "markdown",
      "source": [
        "### Load the data"
      ],
      "metadata": {
        "id": "4BM4HR6Q_PbL"
      }
    },
    {
      "cell_type": "code",
      "source": [
        "df  = pd.read_csv(\"/content/drive/MyDrive/F20BC-Dataset/data_banknote_authentication.csv\")"
      ],
      "metadata": {
        "id": "9G9sLE1A_N8X"
      },
      "execution_count": 3,
      "outputs": []
    },
    {
      "cell_type": "markdown",
      "source": [
        "### View the first 5 instances of the data"
      ],
      "metadata": {
        "id": "9Lzkf16v_gSr"
      }
    },
    {
      "cell_type": "code",
      "source": [
        "df.head()"
      ],
      "metadata": {
        "colab": {
          "base_uri": "https://localhost:8080/",
          "height": 221
        },
        "id": "rre0kNur_gnS",
        "outputId": "8bb87755-5ae6-4933-bea1-44ef631aa9a5"
      },
      "execution_count": 4,
      "outputs": [
        {
          "output_type": "execute_result",
          "data": {
            "text/plain": [
              "    3.6216  8.6661  -2.8073  -0.44699  0\n",
              "0  4.54590  8.1674  -2.4586  -1.46210  0\n",
              "1  3.86600 -2.6383   1.9242   0.10645  0\n",
              "2  3.45660  9.5228  -4.0112  -3.59440  0\n",
              "3  0.32924 -4.4552   4.5718  -0.98880  0\n",
              "4  4.36840  9.6718  -3.9606  -3.16250  0"
            ],
            "text/html": [
              "\n",
              "  <div id=\"df-e704d007-5c1a-4613-8323-24d72ac66fb3\" class=\"colab-df-container\">\n",
              "    <div>\n",
              "<style scoped>\n",
              "    .dataframe tbody tr th:only-of-type {\n",
              "        vertical-align: middle;\n",
              "    }\n",
              "\n",
              "    .dataframe tbody tr th {\n",
              "        vertical-align: top;\n",
              "    }\n",
              "\n",
              "    .dataframe thead th {\n",
              "        text-align: right;\n",
              "    }\n",
              "</style>\n",
              "<table border=\"1\" class=\"dataframe\">\n",
              "  <thead>\n",
              "    <tr style=\"text-align: right;\">\n",
              "      <th></th>\n",
              "      <th>3.6216</th>\n",
              "      <th>8.6661</th>\n",
              "      <th>-2.8073</th>\n",
              "      <th>-0.44699</th>\n",
              "      <th>0</th>\n",
              "    </tr>\n",
              "  </thead>\n",
              "  <tbody>\n",
              "    <tr>\n",
              "      <th>0</th>\n",
              "      <td>4.54590</td>\n",
              "      <td>8.1674</td>\n",
              "      <td>-2.4586</td>\n",
              "      <td>-1.46210</td>\n",
              "      <td>0</td>\n",
              "    </tr>\n",
              "    <tr>\n",
              "      <th>1</th>\n",
              "      <td>3.86600</td>\n",
              "      <td>-2.6383</td>\n",
              "      <td>1.9242</td>\n",
              "      <td>0.10645</td>\n",
              "      <td>0</td>\n",
              "    </tr>\n",
              "    <tr>\n",
              "      <th>2</th>\n",
              "      <td>3.45660</td>\n",
              "      <td>9.5228</td>\n",
              "      <td>-4.0112</td>\n",
              "      <td>-3.59440</td>\n",
              "      <td>0</td>\n",
              "    </tr>\n",
              "    <tr>\n",
              "      <th>3</th>\n",
              "      <td>0.32924</td>\n",
              "      <td>-4.4552</td>\n",
              "      <td>4.5718</td>\n",
              "      <td>-0.98880</td>\n",
              "      <td>0</td>\n",
              "    </tr>\n",
              "    <tr>\n",
              "      <th>4</th>\n",
              "      <td>4.36840</td>\n",
              "      <td>9.6718</td>\n",
              "      <td>-3.9606</td>\n",
              "      <td>-3.16250</td>\n",
              "      <td>0</td>\n",
              "    </tr>\n",
              "  </tbody>\n",
              "</table>\n",
              "</div>\n",
              "    <div class=\"colab-df-buttons\">\n",
              "\n",
              "  <div class=\"colab-df-container\">\n",
              "    <button class=\"colab-df-convert\" onclick=\"convertToInteractive('df-e704d007-5c1a-4613-8323-24d72ac66fb3')\"\n",
              "            title=\"Convert this dataframe to an interactive table.\"\n",
              "            style=\"display:none;\">\n",
              "\n",
              "  <svg xmlns=\"http://www.w3.org/2000/svg\" height=\"24px\" viewBox=\"0 -960 960 960\">\n",
              "    <path d=\"M120-120v-720h720v720H120Zm60-500h600v-160H180v160Zm220 220h160v-160H400v160Zm0 220h160v-160H400v160ZM180-400h160v-160H180v160Zm440 0h160v-160H620v160ZM180-180h160v-160H180v160Zm440 0h160v-160H620v160Z\"/>\n",
              "  </svg>\n",
              "    </button>\n",
              "\n",
              "  <style>\n",
              "    .colab-df-container {\n",
              "      display:flex;\n",
              "      gap: 12px;\n",
              "    }\n",
              "\n",
              "    .colab-df-convert {\n",
              "      background-color: #E8F0FE;\n",
              "      border: none;\n",
              "      border-radius: 50%;\n",
              "      cursor: pointer;\n",
              "      display: none;\n",
              "      fill: #1967D2;\n",
              "      height: 32px;\n",
              "      padding: 0 0 0 0;\n",
              "      width: 32px;\n",
              "    }\n",
              "\n",
              "    .colab-df-convert:hover {\n",
              "      background-color: #E2EBFA;\n",
              "      box-shadow: 0px 1px 2px rgba(60, 64, 67, 0.3), 0px 1px 3px 1px rgba(60, 64, 67, 0.15);\n",
              "      fill: #174EA6;\n",
              "    }\n",
              "\n",
              "    .colab-df-buttons div {\n",
              "      margin-bottom: 4px;\n",
              "    }\n",
              "\n",
              "    [theme=dark] .colab-df-convert {\n",
              "      background-color: #3B4455;\n",
              "      fill: #D2E3FC;\n",
              "    }\n",
              "\n",
              "    [theme=dark] .colab-df-convert:hover {\n",
              "      background-color: #434B5C;\n",
              "      box-shadow: 0px 1px 3px 1px rgba(0, 0, 0, 0.15);\n",
              "      filter: drop-shadow(0px 1px 2px rgba(0, 0, 0, 0.3));\n",
              "      fill: #FFFFFF;\n",
              "    }\n",
              "  </style>\n",
              "\n",
              "    <script>\n",
              "      const buttonEl =\n",
              "        document.querySelector('#df-e704d007-5c1a-4613-8323-24d72ac66fb3 button.colab-df-convert');\n",
              "      buttonEl.style.display =\n",
              "        google.colab.kernel.accessAllowed ? 'block' : 'none';\n",
              "\n",
              "      async function convertToInteractive(key) {\n",
              "        const element = document.querySelector('#df-e704d007-5c1a-4613-8323-24d72ac66fb3');\n",
              "        const dataTable =\n",
              "          await google.colab.kernel.invokeFunction('convertToInteractive',\n",
              "                                                    [key], {});\n",
              "        if (!dataTable) return;\n",
              "\n",
              "        const docLinkHtml = 'Like what you see? Visit the ' +\n",
              "          '<a target=\"_blank\" href=https://colab.research.google.com/notebooks/data_table.ipynb>data table notebook</a>'\n",
              "          + ' to learn more about interactive tables.';\n",
              "        element.innerHTML = '';\n",
              "        dataTable['output_type'] = 'display_data';\n",
              "        await google.colab.output.renderOutput(dataTable, element);\n",
              "        const docLink = document.createElement('div');\n",
              "        docLink.innerHTML = docLinkHtml;\n",
              "        element.appendChild(docLink);\n",
              "      }\n",
              "    </script>\n",
              "  </div>\n",
              "\n",
              "\n",
              "<div id=\"df-8ef99e7b-88d3-493e-bfb6-d16e616e404f\">\n",
              "  <button class=\"colab-df-quickchart\" onclick=\"quickchart('df-8ef99e7b-88d3-493e-bfb6-d16e616e404f')\"\n",
              "            title=\"Suggest charts\"\n",
              "            style=\"display:none;\">\n",
              "\n",
              "<svg xmlns=\"http://www.w3.org/2000/svg\" height=\"24px\"viewBox=\"0 0 24 24\"\n",
              "     width=\"24px\">\n",
              "    <g>\n",
              "        <path d=\"M19 3H5c-1.1 0-2 .9-2 2v14c0 1.1.9 2 2 2h14c1.1 0 2-.9 2-2V5c0-1.1-.9-2-2-2zM9 17H7v-7h2v7zm4 0h-2V7h2v10zm4 0h-2v-4h2v4z\"/>\n",
              "    </g>\n",
              "</svg>\n",
              "  </button>\n",
              "\n",
              "<style>\n",
              "  .colab-df-quickchart {\n",
              "      --bg-color: #E8F0FE;\n",
              "      --fill-color: #1967D2;\n",
              "      --hover-bg-color: #E2EBFA;\n",
              "      --hover-fill-color: #174EA6;\n",
              "      --disabled-fill-color: #AAA;\n",
              "      --disabled-bg-color: #DDD;\n",
              "  }\n",
              "\n",
              "  [theme=dark] .colab-df-quickchart {\n",
              "      --bg-color: #3B4455;\n",
              "      --fill-color: #D2E3FC;\n",
              "      --hover-bg-color: #434B5C;\n",
              "      --hover-fill-color: #FFFFFF;\n",
              "      --disabled-bg-color: #3B4455;\n",
              "      --disabled-fill-color: #666;\n",
              "  }\n",
              "\n",
              "  .colab-df-quickchart {\n",
              "    background-color: var(--bg-color);\n",
              "    border: none;\n",
              "    border-radius: 50%;\n",
              "    cursor: pointer;\n",
              "    display: none;\n",
              "    fill: var(--fill-color);\n",
              "    height: 32px;\n",
              "    padding: 0;\n",
              "    width: 32px;\n",
              "  }\n",
              "\n",
              "  .colab-df-quickchart:hover {\n",
              "    background-color: var(--hover-bg-color);\n",
              "    box-shadow: 0 1px 2px rgba(60, 64, 67, 0.3), 0 1px 3px 1px rgba(60, 64, 67, 0.15);\n",
              "    fill: var(--button-hover-fill-color);\n",
              "  }\n",
              "\n",
              "  .colab-df-quickchart-complete:disabled,\n",
              "  .colab-df-quickchart-complete:disabled:hover {\n",
              "    background-color: var(--disabled-bg-color);\n",
              "    fill: var(--disabled-fill-color);\n",
              "    box-shadow: none;\n",
              "  }\n",
              "\n",
              "  .colab-df-spinner {\n",
              "    border: 2px solid var(--fill-color);\n",
              "    border-color: transparent;\n",
              "    border-bottom-color: var(--fill-color);\n",
              "    animation:\n",
              "      spin 1s steps(1) infinite;\n",
              "  }\n",
              "\n",
              "  @keyframes spin {\n",
              "    0% {\n",
              "      border-color: transparent;\n",
              "      border-bottom-color: var(--fill-color);\n",
              "      border-left-color: var(--fill-color);\n",
              "    }\n",
              "    20% {\n",
              "      border-color: transparent;\n",
              "      border-left-color: var(--fill-color);\n",
              "      border-top-color: var(--fill-color);\n",
              "    }\n",
              "    30% {\n",
              "      border-color: transparent;\n",
              "      border-left-color: var(--fill-color);\n",
              "      border-top-color: var(--fill-color);\n",
              "      border-right-color: var(--fill-color);\n",
              "    }\n",
              "    40% {\n",
              "      border-color: transparent;\n",
              "      border-right-color: var(--fill-color);\n",
              "      border-top-color: var(--fill-color);\n",
              "    }\n",
              "    60% {\n",
              "      border-color: transparent;\n",
              "      border-right-color: var(--fill-color);\n",
              "    }\n",
              "    80% {\n",
              "      border-color: transparent;\n",
              "      border-right-color: var(--fill-color);\n",
              "      border-bottom-color: var(--fill-color);\n",
              "    }\n",
              "    90% {\n",
              "      border-color: transparent;\n",
              "      border-bottom-color: var(--fill-color);\n",
              "    }\n",
              "  }\n",
              "</style>\n",
              "\n",
              "  <script>\n",
              "    async function quickchart(key) {\n",
              "      const quickchartButtonEl =\n",
              "        document.querySelector('#' + key + ' button');\n",
              "      quickchartButtonEl.disabled = true;  // To prevent multiple clicks.\n",
              "      quickchartButtonEl.classList.add('colab-df-spinner');\n",
              "      try {\n",
              "        const charts = await google.colab.kernel.invokeFunction(\n",
              "            'suggestCharts', [key], {});\n",
              "      } catch (error) {\n",
              "        console.error('Error during call to suggestCharts:', error);\n",
              "      }\n",
              "      quickchartButtonEl.classList.remove('colab-df-spinner');\n",
              "      quickchartButtonEl.classList.add('colab-df-quickchart-complete');\n",
              "    }\n",
              "    (() => {\n",
              "      let quickchartButtonEl =\n",
              "        document.querySelector('#df-8ef99e7b-88d3-493e-bfb6-d16e616e404f button');\n",
              "      quickchartButtonEl.style.display =\n",
              "        google.colab.kernel.accessAllowed ? 'block' : 'none';\n",
              "    })();\n",
              "  </script>\n",
              "</div>\n",
              "    </div>\n",
              "  </div>\n"
            ]
          },
          "metadata": {},
          "execution_count": 4
        }
      ]
    },
    {
      "cell_type": "code",
      "source": [
        "df.shape"
      ],
      "metadata": {
        "colab": {
          "base_uri": "https://localhost:8080/"
        },
        "id": "SMc1TPCSHoBk",
        "outputId": "4af984ba-e1d1-49c9-99b3-62cc21b08c2c"
      },
      "execution_count": 5,
      "outputs": [
        {
          "output_type": "execute_result",
          "data": {
            "text/plain": [
              "(1371, 5)"
            ]
          },
          "metadata": {},
          "execution_count": 5
        }
      ]
    },
    {
      "cell_type": "code",
      "source": [
        "# if len(df.columns) == 1:\n",
        "#     # Split the single column into multiple columns by the comma delimiter\n",
        "#     df = df.iloc[:, 0].str.split(',', expand=True)\n",
        "\n",
        "# # Convert the split columns to numeric types\n",
        "# df = df.apply(pd.to_numeric)\n",
        "\n",
        "# Check if there are 5 columns\n",
        "if df.shape[1] == 5:\n",
        "    # Split into features (X) and label (Y)\n",
        "    X = df.iloc[:, :-1]\n",
        "    Y = df.iloc[:, -1]\n",
        "\n",
        "# Convert X and Y to numpy arrays\n",
        "X_array = X.to_numpy()\n",
        "Y_array = Y.to_numpy()"
      ],
      "metadata": {
        "id": "wvyJ15GCrKsu"
      },
      "execution_count": 6,
      "outputs": []
    },
    {
      "cell_type": "code",
      "source": [
        "Y"
      ],
      "metadata": {
        "id": "5R26_KA62QO9",
        "outputId": "6d0f2c41-1a92-46c9-c4f8-5b9b9e307495",
        "colab": {
          "base_uri": "https://localhost:8080/"
        }
      },
      "execution_count": 7,
      "outputs": [
        {
          "output_type": "execute_result",
          "data": {
            "text/plain": [
              "0       0\n",
              "1       0\n",
              "2       0\n",
              "3       0\n",
              "4       0\n",
              "       ..\n",
              "1366    1\n",
              "1367    1\n",
              "1368    1\n",
              "1369    1\n",
              "1370    1\n",
              "Name: 0, Length: 1371, dtype: int64"
            ]
          },
          "metadata": {},
          "execution_count": 7
        }
      ]
    },
    {
      "cell_type": "code",
      "source": [
        "Y_array"
      ],
      "metadata": {
        "colab": {
          "base_uri": "https://localhost:8080/"
        },
        "id": "YQwy5ndJUpn-",
        "outputId": "a0a55d11-7d81-4c73-8f28-4478fe6d8b6f"
      },
      "execution_count": 8,
      "outputs": [
        {
          "output_type": "execute_result",
          "data": {
            "text/plain": [
              "array([0, 0, 0, ..., 1, 1, 1])"
            ]
          },
          "metadata": {},
          "execution_count": 8
        }
      ]
    },
    {
      "cell_type": "code",
      "source": [
        "X"
      ],
      "metadata": {
        "colab": {
          "base_uri": "https://localhost:8080/",
          "height": 433
        },
        "id": "OEgn1BYPJEQ1",
        "outputId": "8c68b395-12bb-48cf-d4d0-15eae495bb87"
      },
      "execution_count": 9,
      "outputs": [
        {
          "output_type": "execute_result",
          "data": {
            "text/plain": [
              "       3.6216    8.6661  -2.8073  -0.44699\n",
              "0     4.54590   8.16740  -2.4586  -1.46210\n",
              "1     3.86600  -2.63830   1.9242   0.10645\n",
              "2     3.45660   9.52280  -4.0112  -3.59440\n",
              "3     0.32924  -4.45520   4.5718  -0.98880\n",
              "4     4.36840   9.67180  -3.9606  -3.16250\n",
              "...       ...       ...      ...       ...\n",
              "1366  0.40614   1.34920  -1.4501  -0.55949\n",
              "1367 -1.38870  -4.87730   6.4774   0.34179\n",
              "1368 -3.75030 -13.45860  17.5932  -2.77710\n",
              "1369 -3.56370  -8.38270  12.3930  -1.28230\n",
              "1370 -2.54190  -0.65804   2.6842   1.19520\n",
              "\n",
              "[1371 rows x 4 columns]"
            ],
            "text/html": [
              "\n",
              "  <div id=\"df-a97418b3-36dd-4b89-b797-5292f8040e2d\" class=\"colab-df-container\">\n",
              "    <div>\n",
              "<style scoped>\n",
              "    .dataframe tbody tr th:only-of-type {\n",
              "        vertical-align: middle;\n",
              "    }\n",
              "\n",
              "    .dataframe tbody tr th {\n",
              "        vertical-align: top;\n",
              "    }\n",
              "\n",
              "    .dataframe thead th {\n",
              "        text-align: right;\n",
              "    }\n",
              "</style>\n",
              "<table border=\"1\" class=\"dataframe\">\n",
              "  <thead>\n",
              "    <tr style=\"text-align: right;\">\n",
              "      <th></th>\n",
              "      <th>3.6216</th>\n",
              "      <th>8.6661</th>\n",
              "      <th>-2.8073</th>\n",
              "      <th>-0.44699</th>\n",
              "    </tr>\n",
              "  </thead>\n",
              "  <tbody>\n",
              "    <tr>\n",
              "      <th>0</th>\n",
              "      <td>4.54590</td>\n",
              "      <td>8.16740</td>\n",
              "      <td>-2.4586</td>\n",
              "      <td>-1.46210</td>\n",
              "    </tr>\n",
              "    <tr>\n",
              "      <th>1</th>\n",
              "      <td>3.86600</td>\n",
              "      <td>-2.63830</td>\n",
              "      <td>1.9242</td>\n",
              "      <td>0.10645</td>\n",
              "    </tr>\n",
              "    <tr>\n",
              "      <th>2</th>\n",
              "      <td>3.45660</td>\n",
              "      <td>9.52280</td>\n",
              "      <td>-4.0112</td>\n",
              "      <td>-3.59440</td>\n",
              "    </tr>\n",
              "    <tr>\n",
              "      <th>3</th>\n",
              "      <td>0.32924</td>\n",
              "      <td>-4.45520</td>\n",
              "      <td>4.5718</td>\n",
              "      <td>-0.98880</td>\n",
              "    </tr>\n",
              "    <tr>\n",
              "      <th>4</th>\n",
              "      <td>4.36840</td>\n",
              "      <td>9.67180</td>\n",
              "      <td>-3.9606</td>\n",
              "      <td>-3.16250</td>\n",
              "    </tr>\n",
              "    <tr>\n",
              "      <th>...</th>\n",
              "      <td>...</td>\n",
              "      <td>...</td>\n",
              "      <td>...</td>\n",
              "      <td>...</td>\n",
              "    </tr>\n",
              "    <tr>\n",
              "      <th>1366</th>\n",
              "      <td>0.40614</td>\n",
              "      <td>1.34920</td>\n",
              "      <td>-1.4501</td>\n",
              "      <td>-0.55949</td>\n",
              "    </tr>\n",
              "    <tr>\n",
              "      <th>1367</th>\n",
              "      <td>-1.38870</td>\n",
              "      <td>-4.87730</td>\n",
              "      <td>6.4774</td>\n",
              "      <td>0.34179</td>\n",
              "    </tr>\n",
              "    <tr>\n",
              "      <th>1368</th>\n",
              "      <td>-3.75030</td>\n",
              "      <td>-13.45860</td>\n",
              "      <td>17.5932</td>\n",
              "      <td>-2.77710</td>\n",
              "    </tr>\n",
              "    <tr>\n",
              "      <th>1369</th>\n",
              "      <td>-3.56370</td>\n",
              "      <td>-8.38270</td>\n",
              "      <td>12.3930</td>\n",
              "      <td>-1.28230</td>\n",
              "    </tr>\n",
              "    <tr>\n",
              "      <th>1370</th>\n",
              "      <td>-2.54190</td>\n",
              "      <td>-0.65804</td>\n",
              "      <td>2.6842</td>\n",
              "      <td>1.19520</td>\n",
              "    </tr>\n",
              "  </tbody>\n",
              "</table>\n",
              "<p>1371 rows × 4 columns</p>\n",
              "</div>\n",
              "    <div class=\"colab-df-buttons\">\n",
              "\n",
              "  <div class=\"colab-df-container\">\n",
              "    <button class=\"colab-df-convert\" onclick=\"convertToInteractive('df-a97418b3-36dd-4b89-b797-5292f8040e2d')\"\n",
              "            title=\"Convert this dataframe to an interactive table.\"\n",
              "            style=\"display:none;\">\n",
              "\n",
              "  <svg xmlns=\"http://www.w3.org/2000/svg\" height=\"24px\" viewBox=\"0 -960 960 960\">\n",
              "    <path d=\"M120-120v-720h720v720H120Zm60-500h600v-160H180v160Zm220 220h160v-160H400v160Zm0 220h160v-160H400v160ZM180-400h160v-160H180v160Zm440 0h160v-160H620v160ZM180-180h160v-160H180v160Zm440 0h160v-160H620v160Z\"/>\n",
              "  </svg>\n",
              "    </button>\n",
              "\n",
              "  <style>\n",
              "    .colab-df-container {\n",
              "      display:flex;\n",
              "      gap: 12px;\n",
              "    }\n",
              "\n",
              "    .colab-df-convert {\n",
              "      background-color: #E8F0FE;\n",
              "      border: none;\n",
              "      border-radius: 50%;\n",
              "      cursor: pointer;\n",
              "      display: none;\n",
              "      fill: #1967D2;\n",
              "      height: 32px;\n",
              "      padding: 0 0 0 0;\n",
              "      width: 32px;\n",
              "    }\n",
              "\n",
              "    .colab-df-convert:hover {\n",
              "      background-color: #E2EBFA;\n",
              "      box-shadow: 0px 1px 2px rgba(60, 64, 67, 0.3), 0px 1px 3px 1px rgba(60, 64, 67, 0.15);\n",
              "      fill: #174EA6;\n",
              "    }\n",
              "\n",
              "    .colab-df-buttons div {\n",
              "      margin-bottom: 4px;\n",
              "    }\n",
              "\n",
              "    [theme=dark] .colab-df-convert {\n",
              "      background-color: #3B4455;\n",
              "      fill: #D2E3FC;\n",
              "    }\n",
              "\n",
              "    [theme=dark] .colab-df-convert:hover {\n",
              "      background-color: #434B5C;\n",
              "      box-shadow: 0px 1px 3px 1px rgba(0, 0, 0, 0.15);\n",
              "      filter: drop-shadow(0px 1px 2px rgba(0, 0, 0, 0.3));\n",
              "      fill: #FFFFFF;\n",
              "    }\n",
              "  </style>\n",
              "\n",
              "    <script>\n",
              "      const buttonEl =\n",
              "        document.querySelector('#df-a97418b3-36dd-4b89-b797-5292f8040e2d button.colab-df-convert');\n",
              "      buttonEl.style.display =\n",
              "        google.colab.kernel.accessAllowed ? 'block' : 'none';\n",
              "\n",
              "      async function convertToInteractive(key) {\n",
              "        const element = document.querySelector('#df-a97418b3-36dd-4b89-b797-5292f8040e2d');\n",
              "        const dataTable =\n",
              "          await google.colab.kernel.invokeFunction('convertToInteractive',\n",
              "                                                    [key], {});\n",
              "        if (!dataTable) return;\n",
              "\n",
              "        const docLinkHtml = 'Like what you see? Visit the ' +\n",
              "          '<a target=\"_blank\" href=https://colab.research.google.com/notebooks/data_table.ipynb>data table notebook</a>'\n",
              "          + ' to learn more about interactive tables.';\n",
              "        element.innerHTML = '';\n",
              "        dataTable['output_type'] = 'display_data';\n",
              "        await google.colab.output.renderOutput(dataTable, element);\n",
              "        const docLink = document.createElement('div');\n",
              "        docLink.innerHTML = docLinkHtml;\n",
              "        element.appendChild(docLink);\n",
              "      }\n",
              "    </script>\n",
              "  </div>\n",
              "\n",
              "\n",
              "<div id=\"df-61abc4c5-e3ec-428e-a557-622e60b23e1d\">\n",
              "  <button class=\"colab-df-quickchart\" onclick=\"quickchart('df-61abc4c5-e3ec-428e-a557-622e60b23e1d')\"\n",
              "            title=\"Suggest charts\"\n",
              "            style=\"display:none;\">\n",
              "\n",
              "<svg xmlns=\"http://www.w3.org/2000/svg\" height=\"24px\"viewBox=\"0 0 24 24\"\n",
              "     width=\"24px\">\n",
              "    <g>\n",
              "        <path d=\"M19 3H5c-1.1 0-2 .9-2 2v14c0 1.1.9 2 2 2h14c1.1 0 2-.9 2-2V5c0-1.1-.9-2-2-2zM9 17H7v-7h2v7zm4 0h-2V7h2v10zm4 0h-2v-4h2v4z\"/>\n",
              "    </g>\n",
              "</svg>\n",
              "  </button>\n",
              "\n",
              "<style>\n",
              "  .colab-df-quickchart {\n",
              "      --bg-color: #E8F0FE;\n",
              "      --fill-color: #1967D2;\n",
              "      --hover-bg-color: #E2EBFA;\n",
              "      --hover-fill-color: #174EA6;\n",
              "      --disabled-fill-color: #AAA;\n",
              "      --disabled-bg-color: #DDD;\n",
              "  }\n",
              "\n",
              "  [theme=dark] .colab-df-quickchart {\n",
              "      --bg-color: #3B4455;\n",
              "      --fill-color: #D2E3FC;\n",
              "      --hover-bg-color: #434B5C;\n",
              "      --hover-fill-color: #FFFFFF;\n",
              "      --disabled-bg-color: #3B4455;\n",
              "      --disabled-fill-color: #666;\n",
              "  }\n",
              "\n",
              "  .colab-df-quickchart {\n",
              "    background-color: var(--bg-color);\n",
              "    border: none;\n",
              "    border-radius: 50%;\n",
              "    cursor: pointer;\n",
              "    display: none;\n",
              "    fill: var(--fill-color);\n",
              "    height: 32px;\n",
              "    padding: 0;\n",
              "    width: 32px;\n",
              "  }\n",
              "\n",
              "  .colab-df-quickchart:hover {\n",
              "    background-color: var(--hover-bg-color);\n",
              "    box-shadow: 0 1px 2px rgba(60, 64, 67, 0.3), 0 1px 3px 1px rgba(60, 64, 67, 0.15);\n",
              "    fill: var(--button-hover-fill-color);\n",
              "  }\n",
              "\n",
              "  .colab-df-quickchart-complete:disabled,\n",
              "  .colab-df-quickchart-complete:disabled:hover {\n",
              "    background-color: var(--disabled-bg-color);\n",
              "    fill: var(--disabled-fill-color);\n",
              "    box-shadow: none;\n",
              "  }\n",
              "\n",
              "  .colab-df-spinner {\n",
              "    border: 2px solid var(--fill-color);\n",
              "    border-color: transparent;\n",
              "    border-bottom-color: var(--fill-color);\n",
              "    animation:\n",
              "      spin 1s steps(1) infinite;\n",
              "  }\n",
              "\n",
              "  @keyframes spin {\n",
              "    0% {\n",
              "      border-color: transparent;\n",
              "      border-bottom-color: var(--fill-color);\n",
              "      border-left-color: var(--fill-color);\n",
              "    }\n",
              "    20% {\n",
              "      border-color: transparent;\n",
              "      border-left-color: var(--fill-color);\n",
              "      border-top-color: var(--fill-color);\n",
              "    }\n",
              "    30% {\n",
              "      border-color: transparent;\n",
              "      border-left-color: var(--fill-color);\n",
              "      border-top-color: var(--fill-color);\n",
              "      border-right-color: var(--fill-color);\n",
              "    }\n",
              "    40% {\n",
              "      border-color: transparent;\n",
              "      border-right-color: var(--fill-color);\n",
              "      border-top-color: var(--fill-color);\n",
              "    }\n",
              "    60% {\n",
              "      border-color: transparent;\n",
              "      border-right-color: var(--fill-color);\n",
              "    }\n",
              "    80% {\n",
              "      border-color: transparent;\n",
              "      border-right-color: var(--fill-color);\n",
              "      border-bottom-color: var(--fill-color);\n",
              "    }\n",
              "    90% {\n",
              "      border-color: transparent;\n",
              "      border-bottom-color: var(--fill-color);\n",
              "    }\n",
              "  }\n",
              "</style>\n",
              "\n",
              "  <script>\n",
              "    async function quickchart(key) {\n",
              "      const quickchartButtonEl =\n",
              "        document.querySelector('#' + key + ' button');\n",
              "      quickchartButtonEl.disabled = true;  // To prevent multiple clicks.\n",
              "      quickchartButtonEl.classList.add('colab-df-spinner');\n",
              "      try {\n",
              "        const charts = await google.colab.kernel.invokeFunction(\n",
              "            'suggestCharts', [key], {});\n",
              "      } catch (error) {\n",
              "        console.error('Error during call to suggestCharts:', error);\n",
              "      }\n",
              "      quickchartButtonEl.classList.remove('colab-df-spinner');\n",
              "      quickchartButtonEl.classList.add('colab-df-quickchart-complete');\n",
              "    }\n",
              "    (() => {\n",
              "      let quickchartButtonEl =\n",
              "        document.querySelector('#df-61abc4c5-e3ec-428e-a557-622e60b23e1d button');\n",
              "      quickchartButtonEl.style.display =\n",
              "        google.colab.kernel.accessAllowed ? 'block' : 'none';\n",
              "    })();\n",
              "  </script>\n",
              "</div>\n",
              "    </div>\n",
              "  </div>\n"
            ]
          },
          "metadata": {},
          "execution_count": 9
        }
      ]
    },
    {
      "cell_type": "code",
      "source": [
        "X_array"
      ],
      "metadata": {
        "colab": {
          "base_uri": "https://localhost:8080/"
        },
        "id": "fMzeAisYUsTB",
        "outputId": "410ae278-3c11-467f-965f-45d3b5435364"
      },
      "execution_count": 10,
      "outputs": [
        {
          "output_type": "execute_result",
          "data": {
            "text/plain": [
              "array([[  4.5459 ,   8.1674 ,  -2.4586 ,  -1.4621 ],\n",
              "       [  3.866  ,  -2.6383 ,   1.9242 ,   0.10645],\n",
              "       [  3.4566 ,   9.5228 ,  -4.0112 ,  -3.5944 ],\n",
              "       ...,\n",
              "       [ -3.7503 , -13.4586 ,  17.5932 ,  -2.7771 ],\n",
              "       [ -3.5637 ,  -8.3827 ,  12.393  ,  -1.2823 ],\n",
              "       [ -2.5419 ,  -0.65804,   2.6842 ,   1.1952 ]])"
            ]
          },
          "metadata": {},
          "execution_count": 10
        }
      ]
    },
    {
      "cell_type": "code",
      "source": [
        "from sklearn.preprocessing import MinMaxScaler\n",
        "\n",
        "scaler = MinMaxScaler()\n",
        "df_normalized = pd.DataFrame(scaler.fit_transform(df), columns=df.columns)"
      ],
      "metadata": {
        "id": "p7veobqkiPkV"
      },
      "execution_count": 11,
      "outputs": []
    },
    {
      "cell_type": "code",
      "source": [
        "df_normalized"
      ],
      "metadata": {
        "id": "Fxp0mtQ7ium9",
        "outputId": "e9fb615d-8739-4139-f375-f7a44c2d218e",
        "colab": {
          "base_uri": "https://localhost:8080/",
          "height": 433
        }
      },
      "execution_count": 12,
      "outputs": [
        {
          "output_type": "execute_result",
          "data": {
            "text/plain": [
              "        3.6216    8.6661   -2.8073  -0.44699    0\n",
              "0     0.835659  0.820982  0.121804  0.644326  0.0\n",
              "1     0.786629  0.416648  0.310608  0.786951  0.0\n",
              "2     0.757105  0.871699  0.054921  0.450440  0.0\n",
              "3     0.531578  0.348662  0.424662  0.687362  0.0\n",
              "4     0.822859  0.877275  0.057100  0.489711  0.0\n",
              "...        ...       ...       ...       ...  ...\n",
              "1366  0.537124  0.565855  0.165249  0.726398  1.0\n",
              "1367  0.407690  0.332868  0.506753  0.808350  1.0\n",
              "1368  0.237385  0.011768  0.985603  0.524755  1.0\n",
              "1369  0.250842  0.201701  0.761587  0.660675  1.0\n",
              "1370  0.324528  0.490747  0.343348  0.885949  1.0\n",
              "\n",
              "[1371 rows x 5 columns]"
            ],
            "text/html": [
              "\n",
              "  <div id=\"df-055e0633-74f5-4166-9cd5-073c4fded5ca\" class=\"colab-df-container\">\n",
              "    <div>\n",
              "<style scoped>\n",
              "    .dataframe tbody tr th:only-of-type {\n",
              "        vertical-align: middle;\n",
              "    }\n",
              "\n",
              "    .dataframe tbody tr th {\n",
              "        vertical-align: top;\n",
              "    }\n",
              "\n",
              "    .dataframe thead th {\n",
              "        text-align: right;\n",
              "    }\n",
              "</style>\n",
              "<table border=\"1\" class=\"dataframe\">\n",
              "  <thead>\n",
              "    <tr style=\"text-align: right;\">\n",
              "      <th></th>\n",
              "      <th>3.6216</th>\n",
              "      <th>8.6661</th>\n",
              "      <th>-2.8073</th>\n",
              "      <th>-0.44699</th>\n",
              "      <th>0</th>\n",
              "    </tr>\n",
              "  </thead>\n",
              "  <tbody>\n",
              "    <tr>\n",
              "      <th>0</th>\n",
              "      <td>0.835659</td>\n",
              "      <td>0.820982</td>\n",
              "      <td>0.121804</td>\n",
              "      <td>0.644326</td>\n",
              "      <td>0.0</td>\n",
              "    </tr>\n",
              "    <tr>\n",
              "      <th>1</th>\n",
              "      <td>0.786629</td>\n",
              "      <td>0.416648</td>\n",
              "      <td>0.310608</td>\n",
              "      <td>0.786951</td>\n",
              "      <td>0.0</td>\n",
              "    </tr>\n",
              "    <tr>\n",
              "      <th>2</th>\n",
              "      <td>0.757105</td>\n",
              "      <td>0.871699</td>\n",
              "      <td>0.054921</td>\n",
              "      <td>0.450440</td>\n",
              "      <td>0.0</td>\n",
              "    </tr>\n",
              "    <tr>\n",
              "      <th>3</th>\n",
              "      <td>0.531578</td>\n",
              "      <td>0.348662</td>\n",
              "      <td>0.424662</td>\n",
              "      <td>0.687362</td>\n",
              "      <td>0.0</td>\n",
              "    </tr>\n",
              "    <tr>\n",
              "      <th>4</th>\n",
              "      <td>0.822859</td>\n",
              "      <td>0.877275</td>\n",
              "      <td>0.057100</td>\n",
              "      <td>0.489711</td>\n",
              "      <td>0.0</td>\n",
              "    </tr>\n",
              "    <tr>\n",
              "      <th>...</th>\n",
              "      <td>...</td>\n",
              "      <td>...</td>\n",
              "      <td>...</td>\n",
              "      <td>...</td>\n",
              "      <td>...</td>\n",
              "    </tr>\n",
              "    <tr>\n",
              "      <th>1366</th>\n",
              "      <td>0.537124</td>\n",
              "      <td>0.565855</td>\n",
              "      <td>0.165249</td>\n",
              "      <td>0.726398</td>\n",
              "      <td>1.0</td>\n",
              "    </tr>\n",
              "    <tr>\n",
              "      <th>1367</th>\n",
              "      <td>0.407690</td>\n",
              "      <td>0.332868</td>\n",
              "      <td>0.506753</td>\n",
              "      <td>0.808350</td>\n",
              "      <td>1.0</td>\n",
              "    </tr>\n",
              "    <tr>\n",
              "      <th>1368</th>\n",
              "      <td>0.237385</td>\n",
              "      <td>0.011768</td>\n",
              "      <td>0.985603</td>\n",
              "      <td>0.524755</td>\n",
              "      <td>1.0</td>\n",
              "    </tr>\n",
              "    <tr>\n",
              "      <th>1369</th>\n",
              "      <td>0.250842</td>\n",
              "      <td>0.201701</td>\n",
              "      <td>0.761587</td>\n",
              "      <td>0.660675</td>\n",
              "      <td>1.0</td>\n",
              "    </tr>\n",
              "    <tr>\n",
              "      <th>1370</th>\n",
              "      <td>0.324528</td>\n",
              "      <td>0.490747</td>\n",
              "      <td>0.343348</td>\n",
              "      <td>0.885949</td>\n",
              "      <td>1.0</td>\n",
              "    </tr>\n",
              "  </tbody>\n",
              "</table>\n",
              "<p>1371 rows × 5 columns</p>\n",
              "</div>\n",
              "    <div class=\"colab-df-buttons\">\n",
              "\n",
              "  <div class=\"colab-df-container\">\n",
              "    <button class=\"colab-df-convert\" onclick=\"convertToInteractive('df-055e0633-74f5-4166-9cd5-073c4fded5ca')\"\n",
              "            title=\"Convert this dataframe to an interactive table.\"\n",
              "            style=\"display:none;\">\n",
              "\n",
              "  <svg xmlns=\"http://www.w3.org/2000/svg\" height=\"24px\" viewBox=\"0 -960 960 960\">\n",
              "    <path d=\"M120-120v-720h720v720H120Zm60-500h600v-160H180v160Zm220 220h160v-160H400v160Zm0 220h160v-160H400v160ZM180-400h160v-160H180v160Zm440 0h160v-160H620v160ZM180-180h160v-160H180v160Zm440 0h160v-160H620v160Z\"/>\n",
              "  </svg>\n",
              "    </button>\n",
              "\n",
              "  <style>\n",
              "    .colab-df-container {\n",
              "      display:flex;\n",
              "      gap: 12px;\n",
              "    }\n",
              "\n",
              "    .colab-df-convert {\n",
              "      background-color: #E8F0FE;\n",
              "      border: none;\n",
              "      border-radius: 50%;\n",
              "      cursor: pointer;\n",
              "      display: none;\n",
              "      fill: #1967D2;\n",
              "      height: 32px;\n",
              "      padding: 0 0 0 0;\n",
              "      width: 32px;\n",
              "    }\n",
              "\n",
              "    .colab-df-convert:hover {\n",
              "      background-color: #E2EBFA;\n",
              "      box-shadow: 0px 1px 2px rgba(60, 64, 67, 0.3), 0px 1px 3px 1px rgba(60, 64, 67, 0.15);\n",
              "      fill: #174EA6;\n",
              "    }\n",
              "\n",
              "    .colab-df-buttons div {\n",
              "      margin-bottom: 4px;\n",
              "    }\n",
              "\n",
              "    [theme=dark] .colab-df-convert {\n",
              "      background-color: #3B4455;\n",
              "      fill: #D2E3FC;\n",
              "    }\n",
              "\n",
              "    [theme=dark] .colab-df-convert:hover {\n",
              "      background-color: #434B5C;\n",
              "      box-shadow: 0px 1px 3px 1px rgba(0, 0, 0, 0.15);\n",
              "      filter: drop-shadow(0px 1px 2px rgba(0, 0, 0, 0.3));\n",
              "      fill: #FFFFFF;\n",
              "    }\n",
              "  </style>\n",
              "\n",
              "    <script>\n",
              "      const buttonEl =\n",
              "        document.querySelector('#df-055e0633-74f5-4166-9cd5-073c4fded5ca button.colab-df-convert');\n",
              "      buttonEl.style.display =\n",
              "        google.colab.kernel.accessAllowed ? 'block' : 'none';\n",
              "\n",
              "      async function convertToInteractive(key) {\n",
              "        const element = document.querySelector('#df-055e0633-74f5-4166-9cd5-073c4fded5ca');\n",
              "        const dataTable =\n",
              "          await google.colab.kernel.invokeFunction('convertToInteractive',\n",
              "                                                    [key], {});\n",
              "        if (!dataTable) return;\n",
              "\n",
              "        const docLinkHtml = 'Like what you see? Visit the ' +\n",
              "          '<a target=\"_blank\" href=https://colab.research.google.com/notebooks/data_table.ipynb>data table notebook</a>'\n",
              "          + ' to learn more about interactive tables.';\n",
              "        element.innerHTML = '';\n",
              "        dataTable['output_type'] = 'display_data';\n",
              "        await google.colab.output.renderOutput(dataTable, element);\n",
              "        const docLink = document.createElement('div');\n",
              "        docLink.innerHTML = docLinkHtml;\n",
              "        element.appendChild(docLink);\n",
              "      }\n",
              "    </script>\n",
              "  </div>\n",
              "\n",
              "\n",
              "<div id=\"df-0af40b1f-6d2a-4506-8b22-c42d30b8224d\">\n",
              "  <button class=\"colab-df-quickchart\" onclick=\"quickchart('df-0af40b1f-6d2a-4506-8b22-c42d30b8224d')\"\n",
              "            title=\"Suggest charts\"\n",
              "            style=\"display:none;\">\n",
              "\n",
              "<svg xmlns=\"http://www.w3.org/2000/svg\" height=\"24px\"viewBox=\"0 0 24 24\"\n",
              "     width=\"24px\">\n",
              "    <g>\n",
              "        <path d=\"M19 3H5c-1.1 0-2 .9-2 2v14c0 1.1.9 2 2 2h14c1.1 0 2-.9 2-2V5c0-1.1-.9-2-2-2zM9 17H7v-7h2v7zm4 0h-2V7h2v10zm4 0h-2v-4h2v4z\"/>\n",
              "    </g>\n",
              "</svg>\n",
              "  </button>\n",
              "\n",
              "<style>\n",
              "  .colab-df-quickchart {\n",
              "      --bg-color: #E8F0FE;\n",
              "      --fill-color: #1967D2;\n",
              "      --hover-bg-color: #E2EBFA;\n",
              "      --hover-fill-color: #174EA6;\n",
              "      --disabled-fill-color: #AAA;\n",
              "      --disabled-bg-color: #DDD;\n",
              "  }\n",
              "\n",
              "  [theme=dark] .colab-df-quickchart {\n",
              "      --bg-color: #3B4455;\n",
              "      --fill-color: #D2E3FC;\n",
              "      --hover-bg-color: #434B5C;\n",
              "      --hover-fill-color: #FFFFFF;\n",
              "      --disabled-bg-color: #3B4455;\n",
              "      --disabled-fill-color: #666;\n",
              "  }\n",
              "\n",
              "  .colab-df-quickchart {\n",
              "    background-color: var(--bg-color);\n",
              "    border: none;\n",
              "    border-radius: 50%;\n",
              "    cursor: pointer;\n",
              "    display: none;\n",
              "    fill: var(--fill-color);\n",
              "    height: 32px;\n",
              "    padding: 0;\n",
              "    width: 32px;\n",
              "  }\n",
              "\n",
              "  .colab-df-quickchart:hover {\n",
              "    background-color: var(--hover-bg-color);\n",
              "    box-shadow: 0 1px 2px rgba(60, 64, 67, 0.3), 0 1px 3px 1px rgba(60, 64, 67, 0.15);\n",
              "    fill: var(--button-hover-fill-color);\n",
              "  }\n",
              "\n",
              "  .colab-df-quickchart-complete:disabled,\n",
              "  .colab-df-quickchart-complete:disabled:hover {\n",
              "    background-color: var(--disabled-bg-color);\n",
              "    fill: var(--disabled-fill-color);\n",
              "    box-shadow: none;\n",
              "  }\n",
              "\n",
              "  .colab-df-spinner {\n",
              "    border: 2px solid var(--fill-color);\n",
              "    border-color: transparent;\n",
              "    border-bottom-color: var(--fill-color);\n",
              "    animation:\n",
              "      spin 1s steps(1) infinite;\n",
              "  }\n",
              "\n",
              "  @keyframes spin {\n",
              "    0% {\n",
              "      border-color: transparent;\n",
              "      border-bottom-color: var(--fill-color);\n",
              "      border-left-color: var(--fill-color);\n",
              "    }\n",
              "    20% {\n",
              "      border-color: transparent;\n",
              "      border-left-color: var(--fill-color);\n",
              "      border-top-color: var(--fill-color);\n",
              "    }\n",
              "    30% {\n",
              "      border-color: transparent;\n",
              "      border-left-color: var(--fill-color);\n",
              "      border-top-color: var(--fill-color);\n",
              "      border-right-color: var(--fill-color);\n",
              "    }\n",
              "    40% {\n",
              "      border-color: transparent;\n",
              "      border-right-color: var(--fill-color);\n",
              "      border-top-color: var(--fill-color);\n",
              "    }\n",
              "    60% {\n",
              "      border-color: transparent;\n",
              "      border-right-color: var(--fill-color);\n",
              "    }\n",
              "    80% {\n",
              "      border-color: transparent;\n",
              "      border-right-color: var(--fill-color);\n",
              "      border-bottom-color: var(--fill-color);\n",
              "    }\n",
              "    90% {\n",
              "      border-color: transparent;\n",
              "      border-bottom-color: var(--fill-color);\n",
              "    }\n",
              "  }\n",
              "</style>\n",
              "\n",
              "  <script>\n",
              "    async function quickchart(key) {\n",
              "      const quickchartButtonEl =\n",
              "        document.querySelector('#' + key + ' button');\n",
              "      quickchartButtonEl.disabled = true;  // To prevent multiple clicks.\n",
              "      quickchartButtonEl.classList.add('colab-df-spinner');\n",
              "      try {\n",
              "        const charts = await google.colab.kernel.invokeFunction(\n",
              "            'suggestCharts', [key], {});\n",
              "      } catch (error) {\n",
              "        console.error('Error during call to suggestCharts:', error);\n",
              "      }\n",
              "      quickchartButtonEl.classList.remove('colab-df-spinner');\n",
              "      quickchartButtonEl.classList.add('colab-df-quickchart-complete');\n",
              "    }\n",
              "    (() => {\n",
              "      let quickchartButtonEl =\n",
              "        document.querySelector('#df-0af40b1f-6d2a-4506-8b22-c42d30b8224d button');\n",
              "      quickchartButtonEl.style.display =\n",
              "        google.colab.kernel.accessAllowed ? 'block' : 'none';\n",
              "    })();\n",
              "  </script>\n",
              "</div>\n",
              "    </div>\n",
              "  </div>\n"
            ]
          },
          "metadata": {},
          "execution_count": 12
        }
      ]
    },
    {
      "cell_type": "code",
      "source": [
        "if len(df_normalized.columns) == 1:\n",
        "    # Split the single column into multiple columns by the comma delimiter\n",
        "    df_normalized = df_normalized.iloc[:, 0].str.split(',', expand=True)\n",
        "\n",
        "# Convert the split columns to numeric types\n",
        "df_normalized = df_normalized.apply(pd.to_numeric)\n",
        "\n",
        "# Check if there are 5 columns\n",
        "if df_normalized.shape[1] == 5:\n",
        "    # Split into features (X) and label (Y)\n",
        "    X_norm = df_normalized.iloc[:, :-1]\n",
        "    Y_norm = df_normalized.iloc[:, -1]\n",
        "\n",
        "# Convert X and Y to numpy arrays\n",
        "X_array_norm = X_norm.to_numpy()\n",
        "Y_array_norm = Y_norm.to_numpy()"
      ],
      "metadata": {
        "id": "iRlbnmzLitza"
      },
      "execution_count": 13,
      "outputs": []
    },
    {
      "cell_type": "code",
      "source": [
        "X_array_norm"
      ],
      "metadata": {
        "id": "fiK6AAS5i_HB",
        "outputId": "7e3a998e-e9cb-4582-9271-4e51a14485e4",
        "colab": {
          "base_uri": "https://localhost:8080/"
        }
      },
      "execution_count": 14,
      "outputs": [
        {
          "output_type": "execute_result",
          "data": {
            "text/plain": [
              "array([[0.83565902, 0.82098209, 0.12180412, 0.64432563],\n",
              "       [0.78662859, 0.41664827, 0.31060805, 0.78695091],\n",
              "       [0.75710505, 0.87169921, 0.05492063, 0.45043964],\n",
              "       ...,\n",
              "       [0.23738543, 0.01176814, 0.98560321, 0.52475518],\n",
              "       [0.25084193, 0.20170105, 0.76158701, 0.6606745 ],\n",
              "       [0.32452819, 0.49074676, 0.34334762, 0.88594888]])"
            ]
          },
          "metadata": {},
          "execution_count": 14
        }
      ]
    },
    {
      "cell_type": "code",
      "source": [
        "len(X_array)"
      ],
      "metadata": {
        "colab": {
          "base_uri": "https://localhost:8080/"
        },
        "id": "08nPxrEBrpE1",
        "outputId": "a38564e8-647e-47d6-bfcf-cc41c440f026"
      },
      "execution_count": 15,
      "outputs": [
        {
          "output_type": "execute_result",
          "data": {
            "text/plain": [
              "1371"
            ]
          },
          "metadata": {},
          "execution_count": 15
        }
      ]
    },
    {
      "cell_type": "code",
      "source": [
        "len(Y_array)"
      ],
      "metadata": {
        "colab": {
          "base_uri": "https://localhost:8080/"
        },
        "id": "rgyAcovorsbD",
        "outputId": "557f6a0b-77e2-4a89-bfce-8b1c7cfdea83"
      },
      "execution_count": 16,
      "outputs": [
        {
          "output_type": "execute_result",
          "data": {
            "text/plain": [
              "1371"
            ]
          },
          "metadata": {},
          "execution_count": 16
        }
      ]
    },
    {
      "cell_type": "markdown",
      "source": [
        "# Functions"
      ],
      "metadata": {
        "id": "hNd19Teur9Oi"
      }
    },
    {
      "cell_type": "markdown",
      "source": [
        "### Activation Functions"
      ],
      "metadata": {
        "id": "Gxmu6Hfs2ksg"
      }
    },
    {
      "cell_type": "code",
      "source": [
        "class ActivationFunctions:\n",
        "  def evaluate(self,x):\n",
        "    pass\n",
        "  def derivate(self,x):\n",
        "    pass\n",
        "\n",
        "class Identity:\n",
        "  def evaluate(self,x):\n",
        "    return x\n",
        "  def derivative(self,x):\n",
        "    return 1\n",
        "\n",
        "class Sigmoid(ActivationFunctions):\n",
        "  def evaluate(self,x):\n",
        "    return 1 / (1 + np.exp(-x))\n",
        "  def derivative(self,x):\n",
        "    f = self.evaluate(x)\n",
        "    return f * (1-f)\n",
        "\n",
        "class Tanh(ActivationFunctions):\n",
        "  def evaluate(self,x):\n",
        "    return np.tanh(x)\n",
        "  def derivative(self,x):\n",
        "    f = self.evaluate(x)\n",
        "    return 1 - f ** 2\n",
        "\n",
        "class relu(ActivationFunctions):\n",
        "  def evaluate(self,x):\n",
        "    return np.maximum(0, x)\n",
        "  def derivative(self,x):\n",
        "    return (x > 0).astype(float)"
      ],
      "metadata": {
        "id": "G1TURV8R1wdl"
      },
      "execution_count": 17,
      "outputs": []
    },
    {
      "cell_type": "markdown",
      "source": [
        "### Loss Functions"
      ],
      "metadata": {
        "id": "Tf7nIvVFBYbo"
      }
    },
    {
      "cell_type": "code",
      "source": [
        "class LossFunctions:\n",
        "  def evaluate(self,x):\n",
        "    pass\n",
        "  def derivate(self,x):\n",
        "    pass\n",
        "\n",
        "# y is predictions made by the neural network\n",
        "# t is target/actual numbers corresponding to inputs\n",
        "class Mse(LossFunctions):\n",
        "  def evaluate(self, y, t):\n",
        "    return ((t - y) ** 2).mean()\n",
        "  def derivative(self, y, t):\n",
        "    return 2 * (y - t) / len(y)\n",
        "\n",
        "class BinaryCrossEntropy(LossFunctions):\n",
        "  def evaluate(self, y, t):\n",
        "    y_pred = np.clip(y, 1e-7, 1 - 1e-7)\n",
        "    term0 = (1 - t) * np.log(1 - y_pred + 1e-7)\n",
        "    term1 = t * np.log(y_pred + 1e-7)\n",
        "    return - (term0 + term1).mean()\n",
        "\n",
        "  def derivative(self, y, t):\n",
        "    y_pred = np.clip(y, 1e-7, 1 - 1e-7)\n",
        "    return (t / y_pred) - (1 - t) / (1 - y_pred)\n",
        "\n",
        "class Hinge(LossFunctions):\n",
        "  def evaluate(self, y, t):\n",
        "    return np.maximum(0, 1 - t * y).mean()\n",
        "\n",
        "  def derivative(self, y, t):\n",
        "    return np.where(t * y < 1, -t, 0)"
      ],
      "metadata": {
        "id": "LQ_E70ULvdxe"
      },
      "execution_count": 18,
      "outputs": []
    },
    {
      "cell_type": "markdown",
      "source": [
        "# Neural Network"
      ],
      "metadata": {
        "id": "p77acdcFG12_"
      }
    },
    {
      "cell_type": "code",
      "source": [
        "class InputLayer:\n",
        "    def __init__(self, input_size):\n",
        "        self.nb_nodes = input_size\n",
        "\n",
        "    def forward(self, input_data):\n",
        "        return input_data\n",
        "\n",
        "class Layer:\n",
        "    def __init__(self, input_size, nodes, activation, weights=None, biases=None):\n",
        "        self.nb_nodes = nodes\n",
        "        self.W = weights if weights is not None else np.random.randn(input_size, nodes)\n",
        "        self.B = biases if biases is not None else np.random.randn(nodes)\n",
        "        self.activation = activation\n",
        "\n",
        "    def forward(self, input_data):\n",
        "        self.X_in = input_data\n",
        "        z = np.dot(input_data, self.W) + self.B\n",
        "        out = self.activation.evaluate(z)\n",
        "        return out\n",
        "\n",
        "class NeuralNetwork:\n",
        "    def __init__(self, configuration, position=None):\n",
        "        self.layers = []\n",
        "        input_size = configuration[0]\n",
        "\n",
        "        # The input layer is simply added as a pass-through layer\n",
        "        self.layers.append(InputLayer(input_size))\n",
        "\n",
        "        # If a position vector is provided, it contains weights and biases for each layer\n",
        "        if position is not None:\n",
        "            for idx, (nodes, activation) in enumerate(configuration[1:]):\n",
        "                weights, biases = position[idx]\n",
        "                # print(\"layer \", idx, \"W = \",weights, \"B = \", biases )\n",
        "                layer = Layer(input_size, nodes, activation, weights=weights, biases=biases)\n",
        "                self.add(layer)\n",
        "                input_size = nodes  # Update input size for the next layer\n",
        "        else:\n",
        "            # If no position vector, initialize layers with random weights and biases\n",
        "            for nodes, activation in configuration[1:]:\n",
        "                layer = Layer(input_size, nodes, activation)\n",
        "                self.add(layer)\n",
        "                input_size = nodes  # Update input size for the next layer\n",
        "\n",
        "    def add(self, layer):\n",
        "        self.layers.append(layer)\n",
        "\n",
        "    def forward(self, input_data):\n",
        "        for layer in self.layers:\n",
        "            input_data = layer.forward(input_data)\n",
        "        return input_data\n",
        "\n",
        "    def print_layers(self):\n",
        "        for i, layer in enumerate(self.layers):\n",
        "            if isinstance(layer, InputLayer):\n",
        "                print(f\"Layer {i}: Input Layer with {layer.nb_nodes} nodes\")\n",
        "            elif isinstance(layer, Layer):\n",
        "                print(f\"Layer {i}: Hidden Layer with {layer.nb_nodes} nodes, Activation Function: {layer.activation.__class__.__name__}\")\n",
        "                print(f\"  Weights Shape: {layer.W.shape}, Biases Shape: {layer.B.shape}\")\n",
        "                print(f\"  Weights= : {layer.W}, Biases= {layer.B}\")\n",
        "            else:\n",
        "                print(f\"Layer {i}: Unknown Layer Type\")\n",
        "\n",
        "    def flatten_weights_and_biases(self):\n",
        "        flattened_vector = []\n",
        "        for layer in self.layers:\n",
        "            if isinstance(layer, Layer):\n",
        "                # Flatten and append weights and biases of this layer\n",
        "                flattened_weights = layer.W.flatten()\n",
        "                flattened_biases = layer.B.flatten()\n",
        "                flattened_vector.extend(flattened_weights.tolist())\n",
        "                flattened_vector.extend(flattened_biases.tolist())\n",
        "        return flattened_vector"
      ],
      "metadata": {
        "id": "WEK6G4PyG0tX"
      },
      "execution_count": 136,
      "outputs": []
    },
    {
      "cell_type": "code",
      "source": [
        "def unflatten_weights_and_biases(flattened_vector, configuration):\n",
        "    position = []\n",
        "    index = 0\n",
        "\n",
        "    # Skip the input layer configuration, as it doesn't have weights or biases\n",
        "    for nodes, _ in configuration[1:]:\n",
        "        # Previous layer's node count is the number of rows for weights\n",
        "        input_size = configuration[0] if not position else position[-1][0].shape[1]\n",
        "\n",
        "        # Calculate the number of weights and biases\n",
        "        num_weights = input_size * nodes\n",
        "        num_biases = nodes\n",
        "\n",
        "        # Extract weights and biases from the flattened vector\n",
        "        weights = flattened_vector[index : index + num_weights]\n",
        "        biases = flattened_vector[index + num_weights : index + num_weights + num_biases]\n",
        "\n",
        "        # Reshape weights to the correct dimensions and add to position\n",
        "        position.append((np.array(weights).reshape(input_size, nodes), np.array(biases)))\n",
        "\n",
        "        # Update the index\n",
        "        index += num_weights + num_biases\n",
        "\n",
        "    return position"
      ],
      "metadata": {
        "id": "ARTTH2p-7XSg"
      },
      "execution_count": 111,
      "outputs": []
    },
    {
      "cell_type": "code",
      "source": [
        "relu_activation = relu()\n",
        "sigmoid_activation = Sigmoid()\n",
        "tanh_activation = Tanh()"
      ],
      "metadata": {
        "id": "mu9Ux9u4Nafz"
      },
      "execution_count": 112,
      "outputs": []
    },
    {
      "cell_type": "code",
      "source": [
        "config = [\n",
        "    4,\n",
        "    [3, relu_activation],\n",
        "    [4, sigmoid_activation],\n",
        "    [1, sigmoid_activation]\n",
        "]"
      ],
      "metadata": {
        "id": "tEolcAKSNQR1"
      },
      "execution_count": 113,
      "outputs": []
    },
    {
      "cell_type": "code",
      "source": [
        "nn = NeuralNetwork(config)"
      ],
      "metadata": {
        "id": "b3y-R0pINKps"
      },
      "execution_count": 114,
      "outputs": []
    },
    {
      "cell_type": "code",
      "source": [
        "nn.print_layers()"
      ],
      "metadata": {
        "id": "kOmgMXN6OdNT",
        "outputId": "01c88571-b609-4772-b510-747be11e11da",
        "colab": {
          "base_uri": "https://localhost:8080/"
        }
      },
      "execution_count": 115,
      "outputs": [
        {
          "output_type": "stream",
          "name": "stdout",
          "text": [
            "Layer 0: Input Layer with 4 nodes\n",
            "Layer 1: Hidden Layer with 3 nodes, Activation Function: relu\n",
            "  Weights Shape: (4, 3), Biases Shape: (3,)\n",
            "  Weights= : [[ 0.08758009 -0.95004972 -0.64814806]\n",
            " [-0.35020182  0.56449234  2.11533166]\n",
            " [-1.73868223 -1.04293742 -1.61367125]\n",
            " [ 0.28645186  0.09103718 -2.69138029]], Biases= [-0.20746207  0.08972316  0.91606226]\n",
            "Layer 2: Hidden Layer with 4 nodes, Activation Function: Sigmoid\n",
            "  Weights Shape: (3, 4), Biases Shape: (4,)\n",
            "  Weights= : [[-0.18089225  0.16979938  1.89086358 -0.69018195]\n",
            " [ 0.83558715 -0.26043971  0.7940041   1.33879149]\n",
            " [ 1.49390263  0.61500348  0.00230536  2.02432866]], Biases= [ 2.56870324 -0.08161351  0.23762439  1.64214324]\n",
            "Layer 3: Hidden Layer with 1 nodes, Activation Function: Sigmoid\n",
            "  Weights Shape: (4, 1), Biases Shape: (1,)\n",
            "  Weights= : [[-1.33570044]\n",
            " [-1.38832104]\n",
            " [ 0.20499419]\n",
            " [ 0.35174906]], Biases= [0.73447658]\n"
          ]
        }
      ]
    },
    {
      "cell_type": "code",
      "source": [
        "flattened_vector = nn.flatten_weights_and_biases()\n",
        "print(flattened_vector)"
      ],
      "metadata": {
        "id": "2uQ3Oj14ScRt",
        "outputId": "f58e3201-d1ed-428a-d2b8-3c36967d0445",
        "colab": {
          "base_uri": "https://localhost:8080/"
        }
      },
      "execution_count": 116,
      "outputs": [
        {
          "output_type": "stream",
          "name": "stdout",
          "text": [
            "[0.08758009162565487, -0.9500497246199046, -0.6481480570151313, -0.35020182388456705, 0.5644923435932719, 2.1153316563558064, -1.738682225588879, -1.0429374206996673, -1.6136712545796774, 0.28645185706289256, 0.09103717655363429, -2.691380294150482, -0.2074620695521379, 0.08972315965686356, 0.9160622551650549, -0.18089224757533204, 0.1697993827797595, 1.8908635779840406, -0.6901819533917078, 0.8355871502576118, -0.2604397078103472, 0.7940041003008417, 1.3387914911904226, 1.4939026305231276, 0.6150034830308004, 0.0023053607479257645, 2.0243286564176395, 2.5687032355328236, -0.08161350564282391, 0.23762439136692434, 1.6421432380605876, -1.3357004367870777, -1.3883210360648406, 0.20499419091724536, 0.3517490576093228, 0.7344765752813294]\n"
          ]
        }
      ]
    },
    {
      "cell_type": "code",
      "source": [
        "# unflatten_weights_and_biases(flattened_vector, config)"
      ],
      "metadata": {
        "id": "JqxPguYd7bl-"
      },
      "execution_count": 118,
      "outputs": []
    },
    {
      "cell_type": "code",
      "source": [
        "input_data = X_array_norm\n",
        "\n",
        "nn_init_pred = nn.forward(input_data)"
      ],
      "metadata": {
        "id": "7E7c3z5rUxgr"
      },
      "execution_count": 119,
      "outputs": []
    },
    {
      "cell_type": "code",
      "source": [
        "nn_init_pred"
      ],
      "metadata": {
        "colab": {
          "base_uri": "https://localhost:8080/"
        },
        "id": "Mwz-Cxb4VSs9",
        "outputId": "43466855-b4ad-4d0a-ec8c-e0e798cf748d"
      },
      "execution_count": 120,
      "outputs": [
        {
          "output_type": "execute_result",
          "data": {
            "text/plain": [
              "array([[0.30853436],\n",
              "       [0.31806559],\n",
              "       [0.27108568],\n",
              "       ...,\n",
              "       [0.31806559],\n",
              "       [0.31806559],\n",
              "       [0.31806559]])"
            ]
          },
          "metadata": {},
          "execution_count": 120
        }
      ]
    },
    {
      "cell_type": "code",
      "source": [
        "len(nn_init_pred)"
      ],
      "metadata": {
        "colab": {
          "base_uri": "https://localhost:8080/"
        },
        "id": "neolCu-cVg2h",
        "outputId": "d0ac4966-06cd-4564-f48f-5b370926df11"
      },
      "execution_count": 121,
      "outputs": [
        {
          "output_type": "execute_result",
          "data": {
            "text/plain": [
              "1371"
            ]
          },
          "metadata": {},
          "execution_count": 121
        }
      ]
    },
    {
      "cell_type": "code",
      "source": [
        "def calculate_fitness(neural_network, X, Y, loss_function):\n",
        "    predictions = neural_network.forward(X)\n",
        "    # print(predictions[0])\n",
        "    loss = loss_function.evaluate(predictions.flatten(), Y)\n",
        "    # print(\"Loss\",loss)\n",
        "    # print(\"predictions = \",predictions.flatten())\n",
        "    # print(\"len(predictions) = \",len(predictions.flatten()))\n",
        "    return loss,predictions\n",
        "\n",
        "loss_function = BinaryCrossEntropy()\n",
        "initial_fitness,predictions = calculate_fitness(nn, X, Y, loss_function)\n",
        "print(\"initial_fitness\", initial_fitness)"
      ],
      "metadata": {
        "colab": {
          "base_uri": "https://localhost:8080/"
        },
        "id": "bzcXBAtvVNai",
        "outputId": "92501386-5539-4107-fec2-70c8e1fcef52"
      },
      "execution_count": 140,
      "outputs": [
        {
          "output_type": "stream",
          "name": "stdout",
          "text": [
            "initial_fitness 0.7711894790593579\n"
          ]
        }
      ]
    },
    {
      "cell_type": "code",
      "source": [
        "def forward_pass(X, Y, W):\n",
        "    # Rebuild the neural network with the given weights\n",
        "    position = unflatten_weights_and_biases(W, config)\n",
        "    # print(position)\n",
        "    neural_network = NeuralNetwork(config, position=position)\n",
        "\n",
        "    # Perform forward pass\n",
        "    predictions = neural_network.forward(X)\n",
        "\n",
        "    # Calculate loss\n",
        "    loss = loss_function.evaluate(predictions.flatten(), Y)\n",
        "    return loss"
      ],
      "metadata": {
        "id": "WJ2kRhgZ7xDj"
      },
      "execution_count": 174,
      "outputs": []
    },
    {
      "cell_type": "code",
      "source": [
        "loss,predictions = forward_pass(X, Y, flattened_vector)\n",
        "print(loss)"
      ],
      "metadata": {
        "colab": {
          "base_uri": "https://localhost:8080/"
        },
        "id": "qMCzRqymCd0S",
        "outputId": "27554504-c1c8-47ce-ca03-aa57ea1e7c9e"
      },
      "execution_count": 160,
      "outputs": [
        {
          "output_type": "stream",
          "name": "stdout",
          "text": [
            "0.7711894790593579\n"
          ]
        }
      ]
    },
    {
      "cell_type": "code",
      "source": [
        "def get_accuracy(Y, Y_pred):\n",
        "    \"\"\"\n",
        "    Calcualtes accuracy.\n",
        "    :param Y: int(N, )\n",
        "        Correct labels.\n",
        "    :param Y_pred: int(N, ) | double(N, C)\n",
        "        Predicted labels of shape(N, ) or (N, C) in case of one-hot vector.\n",
        "    :return: double\n",
        "        Accuracy.\n",
        "    \"\"\"\n",
        "    predicted_classes = (Y_pred >= 0.5).astype(int) # Convert probabilities to class labels\n",
        "    print(predicted_classes)\n",
        "    return (Y == predicted_classes).mean()"
      ],
      "metadata": {
        "id": "9fvQzmaKn4bG"
      },
      "execution_count": 161,
      "outputs": []
    },
    {
      "cell_type": "code",
      "source": [
        "get_accuracy(Y_array, predictions.flatten())"
      ],
      "metadata": {
        "colab": {
          "base_uri": "https://localhost:8080/"
        },
        "id": "5Rrm5RdOn_BG",
        "outputId": "1b78770f-597a-4009-d0da-0f9eb48550eb"
      },
      "execution_count": 162,
      "outputs": [
        {
          "output_type": "stream",
          "name": "stdout",
          "text": [
            "[0 0 0 ... 0 0 0]\n"
          ]
        },
        {
          "output_type": "execute_result",
          "data": {
            "text/plain": [
              "0.5550692924872356"
            ]
          },
          "metadata": {},
          "execution_count": 162
        }
      ]
    },
    {
      "cell_type": "code",
      "source": [
        "class Particle:\n",
        "    \"\"\"\n",
        "    Particle class represents a solution inside a pool(Swarm).\n",
        "    \"\"\"\n",
        "    def __init__(self, no_dim, x_range, v_range):\n",
        "        \"\"\"\n",
        "        Particle class constructor\n",
        "        :param no_dim: int\n",
        "            No of dimensions.\n",
        "        :param x_range: tuple(double)\n",
        "            Min and Max value(range) of dimension.\n",
        "        :param v_range: tuple(double)\n",
        "            Min and Max value(range) of velocity.\n",
        "        \"\"\"\n",
        "        self.x = np.random.uniform(x_range[0], x_range[1], (no_dim, )) #particle position in each dimension...\n",
        "        self.v = np.random.uniform(v_range[0], v_range[1], (no_dim, )) #particle velocity in each dimension...\n",
        "        self.pbest = np.inf\n",
        "        self.pbestpos = np.zeros((no_dim, ))"
      ],
      "metadata": {
        "id": "H5E5uT3ztJGJ"
      },
      "execution_count": 163,
      "outputs": []
    },
    {
      "cell_type": "code",
      "source": [
        "class Swarm:\n",
        "    \"\"\"\n",
        "    Swarm class represents a pool of solution(particle).\n",
        "    \"\"\"\n",
        "    def __init__(self, no_particle, no_dim, x_range, v_range, iw_range, c):\n",
        "        \"\"\"\n",
        "        Swarm class constructor.\n",
        "        :param no_particle: int\n",
        "            No of particles(solutions).\n",
        "        :param no_dim: int\n",
        "            No of dimensions.\n",
        "        :param x_range: tuple(double)\n",
        "            Min and Max value(range) of dimension.\n",
        "        :param v_range: tuple(double)\n",
        "            Min and Max value(range) of velocity.\n",
        "        :param iw_range: tuple(double)\n",
        "            Min and Max value(range) of interia weight.\n",
        "        :param c: tuple(double)\n",
        "            c[0] -> cognitive parameter, c[1] -> social parameter.\n",
        "        \"\"\"\n",
        "        self.p = np.array([Particle(no_dim, x_range, v_range) for i in range(no_particle)])\n",
        "        self.gbest = np.inf\n",
        "        self.gbestpos = np.zeros((no_dim, ))\n",
        "        self.x_range = x_range\n",
        "        self.v_range = v_range\n",
        "        self.iw_range = iw_range\n",
        "        self.c0 = c[0]\n",
        "        self.c1 = c[1]\n",
        "        self.no_dim = no_dim\n",
        "\n",
        "    def optimize(self, function, X, Y,  print_step,  iter):\n",
        "        \"\"\"\n",
        "        optimize is used start optimization.\n",
        "\n",
        "        :param function: function\n",
        "            Function to be optimized.\n",
        "        :param X: input\n",
        "            Used in forward pass.\n",
        "        :param Y: target\n",
        "            Used to calculate loss.\n",
        "        :param print_step: int\n",
        "            Print pause between two adjacent prints.\n",
        "        :param iter: int\n",
        "            No of iterations.\n",
        "        \"\"\"\n",
        "        for i in range(iter):\n",
        "            for particle in self.p:\n",
        "                # print(\"particle.x\",particle.x)\n",
        "                fitness = function(X, Y, particle.x)\n",
        "                # print(\"fitness\",fitness)\n",
        "                # print(\"particle.pbest\",particle.pbest)\n",
        "\n",
        "                if fitness < particle.pbest:\n",
        "                    particle.pbest = fitness\n",
        "                    particle.pbestpos = particle.x.copy()\n",
        "\n",
        "                if fitness < self.gbest:\n",
        "                    self.gbest = fitness\n",
        "                    self.gbestpos = particle.x.copy()\n",
        "\n",
        "\n",
        "            for particle in self.p:\n",
        "                #Here iw is inertia weight...\n",
        "                iw = np.random.uniform(self.iw_range[0], self.iw_range[1], 1)[0]\n",
        "                particle.v = iw * particle.v + (self.c0 * np.random.uniform(0.0, 1.0, (self.no_dim, )) * \\\n",
        "                (particle.pbestpos - particle.x)) + (self.c1 * np.random.uniform(0.0, 1.0, (self.no_dim, )) \\\n",
        "                * (self.gbestpos - particle.x))\n",
        "                #particle.v = particle.v.clip(min=self.v_range[0], max=self.v_range[1])\n",
        "                particle.x = particle.x + particle.v\n",
        "                #particle.x = particle.x.clip(min=self.x_range[0], max=self.x_range[1])\n",
        "\n",
        "            if i % print_step == 0:\n",
        "                print('iteration#: ', i+1,  ' loss: ', fitness)\n",
        "\n",
        "        print(\"global best loss: \", self.gbest)\n",
        "\n",
        "    def get_best_solution(self):\n",
        "        '''\n",
        "\n",
        "        :return: array of parameters/weights.\n",
        "        '''\n",
        "        return self.gbestpos"
      ],
      "metadata": {
        "id": "r-Zppi33tVF7"
      },
      "execution_count": 235,
      "outputs": []
    },
    {
      "cell_type": "code",
      "source": [
        "def get_num_dim(configuration):\n",
        "  total_weights = 0\n",
        "  total_biases = 0\n",
        "\n",
        "  # The number of nodes in the previous layer, initially the input layer\n",
        "  prev_nodes = configuration[0]\n",
        "\n",
        "  # Loop through each layer (excluding the input layer)\n",
        "  for layer in configuration[1:]:\n",
        "      # Extract the number of nodes in the current layer\n",
        "      nodes = layer[0]\n",
        "\n",
        "      # Calculate weights and biases for the current layer\n",
        "      weights = prev_nodes * nodes\n",
        "      biases = nodes\n",
        "\n",
        "      # Add to total weights and biases\n",
        "      total_weights += weights\n",
        "      total_biases += biases\n",
        "\n",
        "      # Update prev_nodes for the next iteration\n",
        "      prev_nodes = nodes\n",
        "\n",
        "  # Output the total number of dimensions\n",
        "  total_dimensions = total_weights + total_biases\n",
        "  return total_dimensions"
      ],
      "metadata": {
        "id": "_fSlbOplvWPa"
      },
      "execution_count": 168,
      "outputs": []
    },
    {
      "cell_type": "code",
      "source": [
        "if __name__ == '__main__':\n",
        "    no_solution = 10\n",
        "    no_dim = get_num_dim(config)\n",
        "    w_range = (0.0, 1.0)\n",
        "    lr_range = (0.0, 1.0)\n",
        "    iw_range = (0.9, 0.9)  # iw -> inertial weight...\n",
        "    c = (0.5, 0.3)  # c[0] -> cognitive factor, c[1] -> social factor...\n",
        "\n",
        "    s = Swarm(no_solution, no_dim, w_range, lr_range, iw_range, c)\n",
        "\n",
        "    # Train:Test Split\n",
        "    test_size = 0.2  # User defined split ratio\n",
        "    X_train, X_test, Y_train, Y_test = train_test_split(X, Y, test_size=test_size, random_state=42)\n",
        "\n",
        "    s.optimize(forward_pass, X_train, Y_train, 10, 100)\n",
        "    W = s.get_best_solution()\n",
        "\n",
        "\n",
        "     # Perform forward pass with the best solution (weights)\n",
        "    best_position = unflatten_weights_and_biases(W, config)\n",
        "    best_nn = NeuralNetwork(config, position=best_position)\n",
        "    # Y_pred = best_nn.forward(X).flatten()\n",
        "\n",
        "    Y_pred = best_nn.forward(X_test).flatten()\n",
        "\n",
        "    # Calculate and print accuracy\n",
        "    accuracy = get_accuracy(Y_test.to_numpy().flatten(), Y_pred)\n",
        "    print(\"Accuracy: %.3f\" % accuracy)\n",
        "\n",
        "    # Y_pred =\n",
        "    # # print(\"Y_pred\",Y_pred)\n",
        "    # accuracy = get_accuracy(Y, Y_pred)\n",
        "    # print(\"Accuracy: %.3f\"% accuracy)"
      ],
      "metadata": {
        "colab": {
          "base_uri": "https://localhost:8080/"
        },
        "id": "wu-kLxdAKCB-",
        "outputId": "1bccef81-a9a5-40e0-915b-c0b7157dced2"
      },
      "execution_count": 236,
      "outputs": [
        {
          "output_type": "stream",
          "name": "stdout",
          "text": [
            "iteration#:  1  loss:  1.2486814879695585\n",
            "iteration#:  11  loss:  0.6515561663884571\n",
            "iteration#:  21  loss:  0.5015818687703557\n",
            "iteration#:  31  loss:  0.4478150380019697\n",
            "iteration#:  41  loss:  0.33958361743336185\n",
            "iteration#:  51  loss:  0.31418844420545566\n",
            "iteration#:  61  loss:  0.2390075462256962\n",
            "iteration#:  71  loss:  0.19679586679641653\n",
            "iteration#:  81  loss:  0.1455687750606852\n",
            "iteration#:  91  loss:  0.11394077083397398\n",
            "global best loss:  0.10158503103072393\n",
            "[0 0 0 0 0 0 0 0 0 0 1 1 0 1 0 1 1 1 1 1 0 0 1 0 1 0 0 1 0 0 1 0 0 1 1 0 1\n",
            " 1 1 0 0 1 1 0 1 1 1 0 0 1 0 0 0 0 0 1 0 0 0 0 1 0 1 0 0 0 0 0 0 1 1 0 1 0\n",
            " 0 0 0 1 1 1 1 0 1 0 0 0 0 1 1 0 0 0 1 1 0 1 1 0 0 0 1 0 0 0 1 0 0 1 1 1 1\n",
            " 1 0 1 0 1 0 1 1 0 1 0 1 0 1 0 1 1 0 1 1 0 0 0 0 0 1 0 0 0 0 0 1 0 1 1 1 1\n",
            " 1 0 1 1 1 0 1 0 1 0 0 0 1 1 1 1 1 0 1 0 0 0 0 0 0 1 0 0 1 1 0 0 0 0 1 0 1\n",
            " 0 1 1 0 0 1 0 0 1 1 1 1 0 0 1 1 1 0 0 1 1 1 1 0 0 0 0 0 0 0 0 0 0 1 1 1 1\n",
            " 1 0 1 0 0 1 1 1 1 0 0 0 1 1 1 1 0 0 0 0 0 1 1 1 0 0 1 0 0 0 1 0 1 0 0 0 1\n",
            " 1 0 0 0 1 1 0 1 0 1 1 1 1 0 0 0]\n",
            "Accuracy: 0.982\n"
          ]
        }
      ]
    },
    {
      "cell_type": "markdown",
      "source": [
        "# gitty"
      ],
      "metadata": {
        "id": "9H4bLl2ijQG7"
      }
    },
    {
      "cell_type": "markdown",
      "source": [],
      "metadata": {
        "id": "h-9JHm8InbOt"
      }
    },
    {
      "cell_type": "markdown",
      "source": [],
      "metadata": {
        "id": "HRqPmEyJnbLv"
      }
    },
    {
      "cell_type": "markdown",
      "source": [],
      "metadata": {
        "id": "l0YccqA_nbIm"
      }
    },
    {
      "cell_type": "markdown",
      "source": [],
      "metadata": {
        "id": "ZFLT4GoonbFi"
      }
    },
    {
      "cell_type": "markdown",
      "source": [],
      "metadata": {
        "id": "_KL0m6ZTnbCE"
      }
    },
    {
      "cell_type": "markdown",
      "source": [],
      "metadata": {
        "id": "gOMgtwgCna-d"
      }
    },
    {
      "cell_type": "code",
      "source": [
        "from sklearn.datasets import load_iris\n",
        "import numpy as np"
      ],
      "metadata": {
        "id": "u338bE_5jYgD"
      },
      "execution_count": 39,
      "outputs": []
    },
    {
      "cell_type": "code",
      "source": [
        "# #load iris dataset..\n",
        "# data = load_iris()\n",
        "\n",
        "# #Store input & target in X and Y..\n",
        "# X = X\n",
        "# Y = Y"
      ],
      "metadata": {
        "id": "rquy4DXikBh9"
      },
      "execution_count": 40,
      "outputs": []
    },
    {
      "cell_type": "code",
      "source": [
        "#define no of nodes in each layer..\n",
        "INPUT_NODES = 4\n",
        "HIDDEN_NODES = 20\n",
        "OUTPUT_NODES = 2"
      ],
      "metadata": {
        "id": "nCzNfdDrkDxP"
      },
      "execution_count": 41,
      "outputs": []
    },
    {
      "cell_type": "code",
      "source": [
        "def one_hot_encode(Y):\n",
        "    \"\"\"\n",
        "    create one-hot encoded vectors from target labels(Y).\n",
        "    :param Y: int(N, )\n",
        "    :return: int(N, C)\n",
        "        Returns an array of shape(N, C) where C is number of classes.\n",
        "    \"\"\"\n",
        "    num_unique = len(np.unique(np.array(Y)))\n",
        "    zeros = np.zeros((len(Y), num_unique))\n",
        "    zeros[range(len(Y)), Y] = 1\n",
        "    return zeros"
      ],
      "metadata": {
        "id": "yyavY9Q6kF78"
      },
      "execution_count": 42,
      "outputs": []
    },
    {
      "cell_type": "code",
      "source": [
        "def softmax(logits):\n",
        "    \"\"\"\n",
        "    Apply softmax function on logits and return probabilities.\n",
        "    :param logits: double(N, C)\n",
        "        Logits of each instance for each class.\n",
        "    :return: double(N, C)\n",
        "        probability for each class of each instance.\n",
        "    \"\"\"\n",
        "    exps = np.exp(logits)\n",
        "    return exps / np.sum(exps, axis=1, keepdims=True)"
      ],
      "metadata": {
        "id": "_3zqUq50kID8"
      },
      "execution_count": 43,
      "outputs": []
    },
    {
      "cell_type": "code",
      "source": [
        "def Negative_Likelihood(probs, Y):\n",
        "    \"\"\"\n",
        "    Calculates Negative Log Likelihood loss.\n",
        "    :param probs: double(N, C)\n",
        "        Probability of each instance for each class.\n",
        "    :param Y: int(N, )\n",
        "        Integer representation of each class.\n",
        "    :return: double\n",
        "        Returns value of loss calculated.\n",
        "    \"\"\"\n",
        "    num_samples = len(probs)\n",
        "    corect_logprobs = -np.log(probs[range(num_samples), Y])\n",
        "    return np.sum(corect_logprobs) / num_samples\n",
        "\n",
        "def Cross_Entropy(probs, Y):\n",
        "    \"\"\"\n",
        "    Calculates Categorical Cross Entropy loss.\n",
        "    :param probs: double(N, C)\n",
        "        Probability of each instance for each class.\n",
        "    :param Y: int(N, C)\n",
        "        One-hot encoded representation of classes.\n",
        "    :return: double\n",
        "        Returns value of loss calculated.\n",
        "    \"\"\"\n",
        "    num_samples = len(probs)\n",
        "    ind_loss = np.max(-1 * Y * np.log(probs + 1e-12), axis=1)\n",
        "    return np.sum(ind_loss) / num_samples"
      ],
      "metadata": {
        "id": "7EHUaDWekK5x"
      },
      "execution_count": 44,
      "outputs": []
    },
    {
      "cell_type": "code",
      "source": [
        "def forward_pass(X, Y, W):\n",
        "    \"\"\"\n",
        "    Performs forward pass during Neural Net training.\n",
        "    :param X: double(N, F)\n",
        "        X is input where N is number of instances and F is number of features.\n",
        "    :param Y: int(N, ) | int(N, C)\n",
        "        Y is target where N is number of instances and C is number of classes in case of\n",
        "        one-hot encoded target.\n",
        "    :param W: double(N, )\n",
        "        Weights where N is number of total weights(flatten).\n",
        "    :return: double\n",
        "        Returns loss of forward pass.\n",
        "    \"\"\"\n",
        "\n",
        "    if isinstance(W, Particle):\n",
        "        W = W.x\n",
        "\n",
        "    w1 = W[0 : INPUT_NODES * HIDDEN_NODES].reshape((INPUT_NODES, HIDDEN_NODES))\n",
        "    b1 = W[INPUT_NODES * HIDDEN_NODES:(INPUT_NODES * HIDDEN_NODES) + HIDDEN_NODES].reshape((HIDDEN_NODES, ))\n",
        "    w2 = W[(INPUT_NODES * HIDDEN_NODES) + HIDDEN_NODES:(INPUT_NODES * HIDDEN_NODES) + HIDDEN_NODES +\\\n",
        "        (HIDDEN_NODES * OUTPUT_NODES)].reshape((HIDDEN_NODES, OUTPUT_NODES))\n",
        "    b2 = W[(INPUT_NODES * HIDDEN_NODES) + HIDDEN_NODES + (HIDDEN_NODES * OUTPUT_NODES): (INPUT_NODES *\\\n",
        "        HIDDEN_NODES) + HIDDEN_NODES + (HIDDEN_NODES * OUTPUT_NODES) + OUTPUT_NODES].reshape((OUTPUT_NODES, ))\n",
        "\n",
        "    z1 = np.dot(X, w1) + b1\n",
        "    a1 = np.tanh(z1)\n",
        "    z2 = np.dot(a1, w2) + b2\n",
        "    logits = z2\n",
        "\n",
        "    probs = softmax(logits)\n",
        "    print(\"Negative_Likelihood(probs, Y)\",Negative_Likelihood(probs, Y))\n",
        "    return Negative_Likelihood(probs, Y)"
      ],
      "metadata": {
        "id": "7VTgtI41kOuo"
      },
      "execution_count": 63,
      "outputs": []
    },
    {
      "cell_type": "code",
      "source": [
        "def predict(X, W):\n",
        "    \"\"\"\n",
        "    Performs forward pass during Neural Net test.\n",
        "    :param X: double(N, F)\n",
        "        X is input where N is number of instances and F is number of features.\n",
        "    :param W: double(N, )\n",
        "        Weights where N is number of total weights(flatten).\n",
        "    :return: int(N, )\n",
        "        Returns predicted classes.\n",
        "    \"\"\"\n",
        "\n",
        "    w1 = W[0: INPUT_NODES * HIDDEN_NODES].reshape((INPUT_NODES, HIDDEN_NODES))\n",
        "    b1 = W[INPUT_NODES * HIDDEN_NODES:(INPUT_NODES * HIDDEN_NODES) + HIDDEN_NODES].reshape((HIDDEN_NODES,))\n",
        "    w2 = W[(INPUT_NODES * HIDDEN_NODES) + HIDDEN_NODES:(INPUT_NODES * HIDDEN_NODES) + HIDDEN_NODES + \\\n",
        "        (HIDDEN_NODES * OUTPUT_NODES)].reshape((HIDDEN_NODES, OUTPUT_NODES))\n",
        "    b2 = W[(INPUT_NODES * HIDDEN_NODES) + HIDDEN_NODES + (HIDDEN_NODES * OUTPUT_NODES): (INPUT_NODES * \\\n",
        "        HIDDEN_NODES) + HIDDEN_NODES + (HIDDEN_NODES * OUTPUT_NODES) + OUTPUT_NODES].reshape((OUTPUT_NODES,))\n",
        "\n",
        "    z1 = np.dot(X, w1) + b1\n",
        "    a1 = np.tanh(z1)\n",
        "    z2 = np.dot(a1, w2) + b2\n",
        "    logits = z2\n",
        "\n",
        "\n",
        "    probs = softmax(logits)\n",
        "    print (\"probs\", probs)\n",
        "    Y_pred =  np.argmax(probs, axis=1)\n",
        "\n",
        "    return Y_pred"
      ],
      "metadata": {
        "id": "5WM13IVekTVG"
      },
      "execution_count": 46,
      "outputs": []
    },
    {
      "cell_type": "code",
      "source": [
        "def get_accuracy(Y, Y_pred):\n",
        "    \"\"\"\n",
        "    Calcualtes accuracy.\n",
        "    :param Y: int(N, )\n",
        "        Correct labels.\n",
        "    :param Y_pred: int(N, ) | double(N, C)\n",
        "        Predicted labels of shape(N, ) or (N, C) in case of one-hot vector.\n",
        "    :return: double\n",
        "        Accuracy.\n",
        "    \"\"\"\n",
        "    return (Y == Y_pred).mean()\n",
        "    #return (np.argmax(Y, axis=1) == Y_pred).mean() #used in case of one-hot vector and loss is Negative Likelihood."
      ],
      "metadata": {
        "id": "wEFFK9TjkWu4"
      },
      "execution_count": 47,
      "outputs": []
    },
    {
      "cell_type": "code",
      "source": [
        "class Particle:\n",
        "    \"\"\"\n",
        "    Particle class represents a solution inside a pool(Swarm).\n",
        "    \"\"\"\n",
        "    def __init__(self, no_dim, x_range, v_range):\n",
        "        \"\"\"\n",
        "        Particle class constructor\n",
        "        :param no_dim: int\n",
        "            No of dimensions.\n",
        "        :param x_range: tuple(double)\n",
        "            Min and Max value(range) of dimension.\n",
        "        :param v_range: tuple(double)\n",
        "            Min and Max value(range) of velocity.\n",
        "        \"\"\"\n",
        "        self.x = np.random.uniform(x_range[0], x_range[1], (no_dim, )) #particle position in each dimension...\n",
        "        self.v = np.random.uniform(v_range[0], v_range[1], (no_dim, )) #particle velocity in each dimension...\n",
        "        self.pbest = np.inf\n",
        "        self.pbestpos = np.zeros((no_dim, ))"
      ],
      "metadata": {
        "id": "RoidjPrnWNuK"
      },
      "execution_count": 48,
      "outputs": []
    },
    {
      "cell_type": "code",
      "source": [
        "class Swarm:\n",
        "    \"\"\"\n",
        "    Swarm class represents a pool of solution(particle).\n",
        "    \"\"\"\n",
        "    def __init__(self, no_particle, no_dim, x_range, v_range, iw_range, c):\n",
        "        \"\"\"\n",
        "        Swarm class constructor.\n",
        "        :param no_particle: int\n",
        "            No of particles(solutions).\n",
        "        :param no_dim: int\n",
        "            No of dimensions.\n",
        "        :param x_range: tuple(double)\n",
        "            Min and Max value(range) of dimension.\n",
        "        :param v_range: tuple(double)\n",
        "            Min and Max value(range) of velocity.\n",
        "        :param iw_range: tuple(double)\n",
        "            Min and Max value(range) of interia weight.\n",
        "        :param c: tuple(double)\n",
        "            c[0] -> cognitive parameter, c[1] -> social parameter.\n",
        "        \"\"\"\n",
        "        self.p = np.array([Particle(no_dim, x_range, v_range) for i in range(no_particle)])\n",
        "        self.gbest = np.inf\n",
        "        self.gbestpos = np.zeros((no_dim, ))\n",
        "        self.x_range = x_range\n",
        "        self.v_range = v_range\n",
        "        self.iw_range = iw_range\n",
        "        self.c0 = c[0]\n",
        "        self.c1 = c[1]\n",
        "        self.no_dim = no_dim\n",
        "\n",
        "    def optimize(self, function, X, Y,  print_step,  iter):\n",
        "        \"\"\"\n",
        "        optimize is used start optimization.\n",
        "\n",
        "        :param function: function\n",
        "            Function to be optimized.\n",
        "        :param X: input\n",
        "            Used in forward pass.\n",
        "        :param Y: target\n",
        "            Used to calculate loss.\n",
        "        :param print_step: int\n",
        "            Print pause between two adjacent prints.\n",
        "        :param iter: int\n",
        "            No of iterations.\n",
        "        \"\"\"\n",
        "        for i in range(iter):\n",
        "            for particle in self.p:\n",
        "                fitness = function(X, Y, particle.x)\n",
        "\n",
        "                if fitness < particle.pbest:\n",
        "                    particle.pbest = fitness\n",
        "                    particle.pbestpos = particle.x.copy()\n",
        "\n",
        "                if fitness < self.gbest:\n",
        "                    self.gbest = fitness\n",
        "                    self.gbestpos = particle.x.copy()\n",
        "\n",
        "\n",
        "            for particle in self.p:\n",
        "                #Here iw is inertia weight...\n",
        "                iw = np.random.uniform(self.iw_range[0], self.iw_range[1], 1)[0]\n",
        "                particle.v = iw * particle.v + (self.c0 * np.random.uniform(0.0, 1.0, (self.no_dim, )) * \\\n",
        "                (particle.pbestpos - particle.x)) + (self.c1 * np.random.uniform(0.0, 1.0, (self.no_dim, )) \\\n",
        "                * (self.gbestpos - particle.x))\n",
        "                #particle.v = particle.v.clip(min=self.v_range[0], max=self.v_range[1])\n",
        "                particle.x = particle.x + particle.v\n",
        "                #particle.x = particle.x.clip(min=self.x_range[0], max=self.x_range[1])\n",
        "\n",
        "            if i % print_step == 0:\n",
        "                print('iteration#: ', i+1,  ' loss: ', fitness)\n",
        "\n",
        "        print(\"global best loss: \", self.gbest)\n",
        "\n",
        "    def get_best_solution(self):\n",
        "        '''\n",
        "\n",
        "        :return: array of parameters/weights.\n",
        "        '''\n",
        "        return self.gbestpos\n"
      ],
      "metadata": {
        "id": "1t8yqkBeiAV6"
      },
      "execution_count": 49,
      "outputs": []
    },
    {
      "cell_type": "code",
      "source": [
        "if __name__ == '__main__':\n",
        "    no_solution = 2\n",
        "    no_dim = (INPUT_NODES * HIDDEN_NODES) + HIDDEN_NODES + (HIDDEN_NODES * OUTPUT_NODES) + OUTPUT_NODES\n",
        "    w_range = (0.0, 1.0)\n",
        "    lr_range = (0.0, 1.0)\n",
        "    iw_range = (0.9, 0.9)  # iw -> inertial weight...\n",
        "    c = (0.5, 0.3)  # c[0] -> cognitive factor, c[1] -> social factor...\n",
        "\n",
        "    s = Swarm(no_solution, no_dim, w_range, lr_range, iw_range, c)\n",
        "    #Y = one_hot_encode(Y) #Encode here...\n",
        "    s.optimize(forward_pass, X, Y, 100, 2)\n",
        "    W = s.get_best_solution()\n",
        "    print(\"X\",X)\n",
        "    Y_pred = predict(X, W)\n",
        "    print(\"Y_pred\",Y_pred)\n",
        "    accuracy = get_accuracy(Y, Y_pred)\n",
        "    print(\"Accuracy: %.3f\"% accuracy)"
      ],
      "metadata": {
        "colab": {
          "base_uri": "https://localhost:8080/"
        },
        "id": "lgxjI4C_kZaC",
        "outputId": "0983e41f-6b3c-45ee-c3fd-6d3571a77d80"
      },
      "execution_count": 66,
      "outputs": [
        {
          "output_type": "stream",
          "name": "stdout",
          "text": [
            "Negative_Likelihood(probs, Y) 0.64934128174379\n",
            "Negative_Likelihood(probs, Y) 1.0155512357273155\n",
            "iteration#:  1  loss:  1.0155512357273155\n",
            "Negative_Likelihood(probs, Y) 0.5528318033107118\n",
            "Negative_Likelihood(probs, Y) 0.9375993405325559\n",
            "global best loss:  0.5528318033107118\n",
            "X        3.6216    8.6661  -2.8073  -0.44699\n",
            "0     4.54590   8.16740  -2.4586  -1.46210\n",
            "1     3.86600  -2.63830   1.9242   0.10645\n",
            "2     3.45660   9.52280  -4.0112  -3.59440\n",
            "3     0.32924  -4.45520   4.5718  -0.98880\n",
            "4     4.36840   9.67180  -3.9606  -3.16250\n",
            "...       ...       ...      ...       ...\n",
            "1366  0.40614   1.34920  -1.4501  -0.55949\n",
            "1367 -1.38870  -4.87730   6.4774   0.34179\n",
            "1368 -3.75030 -13.45860  17.5932  -2.77710\n",
            "1369 -3.56370  -8.38270  12.3930  -1.28230\n",
            "1370 -2.54190  -0.65804   2.6842   1.19520\n",
            "\n",
            "[1371 rows x 4 columns]\n",
            "probs [[0.52841059 0.47158941]\n",
            " [0.59650486 0.40349514]\n",
            " [0.46447609 0.53552391]\n",
            " ...\n",
            " [0.32530233 0.67469767]\n",
            " [0.40756488 0.59243512]\n",
            " [0.12284282 0.87715718]]\n",
            "Y_pred [0 0 1 ... 1 1 1]\n",
            "Accuracy: 0.853\n"
          ]
        }
      ]
    },
    {
      "cell_type": "code",
      "source": [],
      "metadata": {
        "id": "vHvEo_iBrG0k"
      },
      "execution_count": 50,
      "outputs": []
    }
  ]
}